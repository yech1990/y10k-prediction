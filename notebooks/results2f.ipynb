{
 "metadata": {
  "name": "",
  "signature": "sha256:76a58679e3b026c21b1121f559eca188d52631326070f8ca03271d7b60296ac1"
 },
 "nbformat": 3,
 "nbformat_minor": 0,
 "worksheets": [
  {
   "cells": [
    {
     "cell_type": "code",
     "collapsed": false,
     "input": [
      "# activiate inline plotting\n",
      "%matplotlib inline\n",
      "\n",
      "import sys\n",
      "sys.path.append(\"/home/kaspar\")\n",
      "\n",
      "import numpy as np\n",
      "import scipy as sp\n",
      "import pandas as pd\n",
      "\n",
      "%load_ext autoreload\n",
      "%autoreload 2\n",
      "\n",
      "from y10k_prediction_methods.helper_functions import summarise_Rsq\n",
      "from y10k_prediction_methods.QTL_fitting import get_predictions_iid"
     ],
     "language": "python",
     "metadata": {},
     "outputs": [],
     "prompt_number": 1
    },
    {
     "cell_type": "heading",
     "level": 3,
     "metadata": {},
     "source": [
      "Get data"
     ]
    },
    {
     "cell_type": "code",
     "collapsed": false,
     "input": [
      "from y10k_prediction_methods.data_import import get_data_with_parents\n",
      "\n",
      "file_name = 'data/y10k_hybrids_Yield.hdf5'\n",
      "Y, snps, K, parent1, parent2, individuals, dataset, environments = get_data_with_parents(file_name)"
     ],
     "language": "python",
     "metadata": {},
     "outputs": [
      {
       "output_type": "stream",
       "stream": "stderr",
       "text": [
        "/home/kaspar/anaconda/lib/python2.7/site-packages/limix/io/genotype_reader.py:248: DeprecationWarning: openFile() is pending deprecation, use open_file() instead. You may use the pt2to3 tool to update your source code.\n",
        "  self.f = tables.openFile(self.file_name,'r')\n",
        "/home/kaspar/anaconda/lib/python2.7/site-packages/limix/io/phenotype_reader.py:31: DeprecationWarning: openFile() is pending deprecation, use open_file() instead. You may use the pt2to3 tool to update your source code.\n",
        "  self.f = tables.openFile(self.file_name,'r')\n"
       ]
      }
     ],
     "prompt_number": 2
    },
    {
     "cell_type": "heading",
     "level": 4,
     "metadata": {},
     "source": [
      "Get indexes for leave-one-out experiment"
     ]
    },
    {
     "cell_type": "code",
     "collapsed": false,
     "input": [
      "def get_LOO_sets(parent1, parent2, Ntotal=20):\n",
      "    levels1 = np.unique(parent1)\n",
      "    levels2 = np.unique(parent2)\n",
      "    N1 = len(levels1)\n",
      "    N2 = len(levels2)\n",
      "    sub_p1 = np.random.choice(levels1, size=Ntotal, replace=False)\n",
      "    sub_p2 = np.random.choice(levels2, size=Ntotal, replace=False)\n",
      "    sub_ind1 = np.array([e in sub_p1 for e in parent1], dtype=bool)\n",
      "    sub_ind2 = np.array([e in sub_p2 for e in parent2], dtype=bool)\n",
      "    sub_ind = sub_ind1 & sub_ind2\n",
      "    \n",
      "    Itest_list = []\n",
      "    Itrain_distant_list = []\n",
      "    Itrain_close_list = []\n",
      "    Itrain_all_list = []\n",
      "    for i in range(Ntotal):\n",
      "        selected_p1 = sub_p1[i]\n",
      "        selected_p2 = sub_p2[i]\n",
      "        test_ind1 = np.array([e == selected_p1 for e in parent1], dtype=bool)\n",
      "        test_ind2 = np.array([e == selected_p2 for e in parent2], dtype=bool)\n",
      "\n",
      "        Itest = test_ind1 & test_ind2 & sub_ind\n",
      "\n",
      "        Itrain_distant = (~test_ind1) & (~test_ind2) & sub_ind\n",
      "        Itrain_close1 = (test_ind1) & (~test_ind2) & sub_ind\n",
      "        Itrain_close2 = (~test_ind1) & (test_ind2) & sub_ind\n",
      "        Itrain_close = Itrain_close1 | Itrain_close2\n",
      "        Itest_list.append(Itest)\n",
      "        Itrain_distant_list.append(Itrain_distant.copy())\n",
      "        Itrain_distant[np.random.choice(np.where(Itrain_distant)[0], size=Itrain_close.sum(), replace=False)] = False\n",
      "        Itrain_all_list.append(Itrain_distant.copy() | Itrain_close)\n",
      "        Itrain_close_list.append(Itrain_close)\n",
      "    return Itest_list, Itrain_distant_list, Itrain_close_list, Itrain_all_list"
     ],
     "language": "python",
     "metadata": {},
     "outputs": [],
     "prompt_number": 3
    },
    {
     "cell_type": "code",
     "collapsed": false,
     "input": [
      "Ntotal = 40\n",
      "Itest_list, Itrain_distant_list, Itrain_close_list, Itrain_all_list = get_LOO_sets(parent1, parent2, Ntotal)"
     ],
     "language": "python",
     "metadata": {},
     "outputs": [],
     "prompt_number": 4
    },
    {
     "cell_type": "heading",
     "level": 4,
     "metadata": {},
     "source": [
      "Code for fitting QTL models"
     ]
    },
    {
     "cell_type": "code",
     "collapsed": false,
     "input": [
      "from IPython.parallel import Client\n",
      "c = Client()\n",
      "cluster = c[:]"
     ],
     "language": "python",
     "metadata": {},
     "outputs": [],
     "prompt_number": 5
    },
    {
     "cell_type": "code",
     "collapsed": false,
     "input": [
      "maxiter = 10\n",
      "pred_nQTLs = range(maxiter+1)\n",
      "myfunction_QTLs_LOO = lambda j: QTLs_LOO_exploration(Y, j, snps, Itrain_list, Itest_list, maxiter=maxiter)\n",
      "\n",
      "cluster.execute('''\n",
      "import sys\n",
      "sys.path.append(\"/home/kaspar\")\n",
      "from y10k_prediction_methods.QTL_fitting import QTLs_LOO_exploration\n",
      "''')\n"
     ],
     "language": "python",
     "metadata": {},
     "outputs": [
      {
       "metadata": {},
       "output_type": "pyout",
       "prompt_number": 6,
       "text": [
        "<AsyncResult: finished>"
       ]
      }
     ],
     "prompt_number": 6
    },
    {
     "cell_type": "code",
     "collapsed": false,
     "input": [
      "mydict=dict(Y=Y, snps=snps, Itrain_list=Itrain_distant_list, Itest_list=Itest_list, maxiter=maxiter)\n",
      "cluster.push(mydict)\n",
      "res = cluster.map_sync(myfunction_QTLs_LOO, range(Y.shape[1]))\n",
      "\n",
      "temp1 = np.array([obj[\"Rsq_test\"] for obj in res])\n",
      "temp2 = np.array([obj[\"Rsq_train\"] for obj in res]).mean(axis=1)\n",
      "df1 = pd.DataFrame(np.row_stack((temp1, temp2)), columns=environments)"
     ],
     "language": "python",
     "metadata": {},
     "outputs": [],
     "prompt_number": 7
    },
    {
     "cell_type": "code",
     "collapsed": false,
     "input": [
      "mydict=dict(Y=Y, snps=snps, Itrain_list=Itrain_all_list, Itest_list=Itest_list, maxiter=maxiter)\n",
      "cluster.push(mydict)\n",
      "res = cluster.map_sync(myfunction_QTLs_LOO, range(Y.shape[1]))\n",
      "\n",
      "temp3 = np.array([obj[\"Rsq_test\"] for obj in res])\n",
      "temp4 = np.array([obj[\"Rsq_train\"] for obj in res]).mean(axis=1)\n",
      "df2 = pd.DataFrame(np.row_stack((temp1, temp2)), columns=environments)"
     ],
     "language": "python",
     "metadata": {},
     "outputs": [],
     "prompt_number": 8
    },
    {
     "cell_type": "code",
     "collapsed": false,
     "input": [
      "df = pd.concat((df1, df2))\n",
      "df[\"type1\"] = [\"test\", \"train\", \"test\", \"train\"]\n",
      "df[\"type2\"] = [\"distant\", \"distant\", \"close and distant\", \"close and distant\"]\n",
      "df.to_csv(\"output/leave_one_out_QTLs.csv\")"
     ],
     "language": "python",
     "metadata": {},
     "outputs": [],
     "prompt_number": 8
    },
    {
     "cell_type": "code",
     "collapsed": false,
     "input": [],
     "language": "python",
     "metadata": {},
     "outputs": []
    }
   ],
   "metadata": {}
  }
 ]
}