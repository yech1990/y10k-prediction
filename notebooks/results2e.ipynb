{
 "metadata": {
  "name": "",
  "signature": "sha256:0ea284207eb60428b57a6772761b8e7213bf79d9d02e2d4923697a44779acef8"
 },
 "nbformat": 3,
 "nbformat_minor": 0,
 "worksheets": [
  {
   "cells": [
    {
     "cell_type": "code",
     "collapsed": false,
     "input": [
      "# activiate inline plotting\n",
      "%matplotlib inline\n",
      "\n",
      "import sys\n",
      "sys.path.append(\"/home/kaspar\")\n",
      "\n",
      "import numpy as np\n",
      "import scipy as sp\n",
      "import pandas as pd\n",
      "\n",
      "from y10k_prediction_methods.helper_functions import summarise_Rsq\n",
      "from y10k_prediction_methods.QTL_fitting import get_predictions_iid"
     ],
     "language": "python",
     "metadata": {},
     "outputs": [],
     "prompt_number": 16
    },
    {
     "cell_type": "heading",
     "level": 3,
     "metadata": {},
     "source": [
      "Get data"
     ]
    },
    {
     "cell_type": "code",
     "collapsed": false,
     "input": [
      "from y10k_prediction_methods.data_import import get_data_with_parents\n",
      "\n",
      "file_name = 'data/y10k_hybrids_Yield.hdf5'\n",
      "Y, snps, K, parent1, parent2, individuals, dataset, environments = get_data_with_parents(file_name)"
     ],
     "language": "python",
     "metadata": {},
     "outputs": [
      {
       "output_type": "stream",
       "stream": "stderr",
       "text": [
        "/home/kaspar/anaconda/lib/python2.7/site-packages/limix/io/genotype_reader.py:248: DeprecationWarning: openFile() is pending deprecation, use open_file() instead. You may use the pt2to3 tool to update your source code.\n",
        "  self.f = tables.openFile(self.file_name,'r')\n",
        "/home/kaspar/anaconda/lib/python2.7/site-packages/limix/io/phenotype_reader.py:31: DeprecationWarning: openFile() is pending deprecation, use open_file() instead. You may use the pt2to3 tool to update your source code.\n",
        "  self.f = tables.openFile(self.file_name,'r')\n"
       ]
      }
     ],
     "prompt_number": 2
    },
    {
     "cell_type": "heading",
     "level": 3,
     "metadata": {},
     "source": [
      "4-fold CV partitions into test and two sets of training sets (distant and close relatives)"
     ]
    },
    {
     "cell_type": "code",
     "collapsed": false,
     "input": [
      "from y10k_prediction_methods.train_and_test_sets import get_4foldCV_close_and_distant\n",
      "\n",
      "sp.random.seed(0)\n",
      "Itest_list, Idistant_list, Iclose_list = get_4foldCV_close_and_distant(parent1, parent2)"
     ],
     "language": "python",
     "metadata": {},
     "outputs": [],
     "prompt_number": 3
    },
    {
     "cell_type": "heading",
     "level": 3,
     "metadata": {},
     "source": [
      "QTL models fitted using various approaches"
     ]
    },
    {
     "cell_type": "code",
     "collapsed": false,
     "input": [
      "from IPython.parallel import Client\n",
      "c = Client()\n",
      "cluster = c[:]"
     ],
     "language": "python",
     "metadata": {},
     "outputs": [],
     "prompt_number": 10
    },
    {
     "cell_type": "code",
     "collapsed": false,
     "input": [
      "def helper_QTLs_LM(Y_j, covs, Itrain, Itest):\n",
      "    pred_list = []\n",
      "    for i in range(covs.shape[1]):\n",
      "        covmat = covs[:, 0:(i+1)]\n",
      "        lm = linear_model.LinearRegression()\n",
      "        lm.fit(covmat[Itrain, :], Y_j[Itrain, :])\n",
      "        pred = lm.predict(covmat[Itest, :])\n",
      "        pred_list.append(pred)\n",
      "    return pred_list"
     ],
     "language": "python",
     "metadata": {},
     "outputs": [],
     "prompt_number": 11
    },
    {
     "cell_type": "code",
     "collapsed": false,
     "input": [
      "maxiter = 5\n",
      "pred_nQTLs = range(maxiter+1)\n",
      "myfunction_qtl_additive = lambda j: QTL_iid_predictions_exploration(Y, j, snps, Itrain, Itest, pred_nQTLs, maxiter=maxiter)\n",
      "\n",
      "cluster.execute('''\n",
      "import sys\n",
      "sys.path.append(\"/home/kaspar/yeast/code/\")\n",
      "from y10k_prediction_methods.QTL_fitting import QTL_iid_predictions_exploration\n",
      "''')\n"
     ],
     "language": "python",
     "metadata": {},
     "outputs": [
      {
       "metadata": {},
       "output_type": "pyout",
       "prompt_number": 12,
       "text": [
        "<AsyncResult: execute>"
       ]
      }
     ],
     "prompt_number": 12
    },
    {
     "cell_type": "heading",
     "level": 4,
     "metadata": {},
     "source": [
      "Identify QTLs in close relatives"
     ]
    },
    {
     "cell_type": "code",
     "collapsed": false,
     "input": [
      "for i in range(1):\n",
      "    Itest = Itest_list[i]\n",
      "    Itrain = Iclose_list[i]\n",
      "    mydict=dict(Y=Y, snps=snps, Itrain=Itrain, Itest=Itest, pred_nQTLs=pred_nQTLs, maxiter=maxiter)\n",
      "    cluster.push(mydict)\n",
      "    res = cluster.map_sync(myfunction_qtl_additive, range(Y.shape[1]))\n",
      "    res_close = res\n",
      "    pred = np.array([obj[\"pred\"] for obj in res]).T\n",
      "    if i==0:\n",
      "        Ypred_close = pred\n",
      "        Yobs = Y[Itest, :]\n",
      "        Rsq_by_fold_close = pd.DataFrame()\n",
      "        Rsq_and_nQTLs_close = pd.DataFrame()\n",
      "    else:\n",
      "        Ypred_close = np.row_stack((Ypred_close, pred))\n",
      "        Yobs = np.row_stack((Yobs, Y[Itest, :]))\n",
      "    temp = pd.DataFrame(summarise_Rsq(Y[Itest, :], pred).T, columns = environments)\n",
      "    temp[\"fold\"] = i\n",
      "    Rsq_by_fold_close = pd.concat((Rsq_by_fold_close, temp))\n",
      "    \n",
      "    temp2 = pd.DataFrame(np.array([obj[\"Rsq_test\"] for obj in res]).T, columns=environments)\n",
      "    temp2[\"nQTLs\"] = pred_nQTLs\n",
      "    temp2[\"out_of_sample\"] = [\"Yes\"]*len(pred_nQTLs)\n",
      "    temp3 = pd.DataFrame(np.array([obj[\"Rsq_train\"] for obj in res]).T, columns=environments)\n",
      "    temp3[\"nQTLs\"] = pred_nQTLs\n",
      "    temp3[\"out_of_sample\"] = [\"No\"]*len(pred_nQTLs)\n",
      "    Rsq_and_nQTLs_close = pd.concat((Rsq_and_nQTLs_close, pd.concat((temp2, temp3))))"
     ],
     "language": "python",
     "metadata": {},
     "outputs": [],
     "prompt_number": 13
    },
    {
     "cell_type": "heading",
     "level": 4,
     "metadata": {},
     "source": [
      "Use QTLs from close relatives and estimate their effect sizes on distant relatives"
     ]
    },
    {
     "cell_type": "code",
     "collapsed": false,
     "input": [
      "covs_list = [obj[\"covs\"] for obj in res_close]\n",
      "for i in range(1):\n",
      "    Itest = Itest_list[i]\n",
      "    Itrain = Idistant_list[i]\n",
      "    Rsq = sp.zeros((maxiter+1, Y.shape[1]))\n",
      "    for j in range(Y.shape[1]):\n",
      "        pred_j = sp.zeros((maxiter+1, Itest.sum()))\n",
      "        for k in range(maxiter+1):\n",
      "            pred_j[k, :] = get_predictions_iid(Y[:, j], covs_list[j][:, 0:(k+1)], Itrain, Itest)\n",
      "            Rsq[k, j] = sp.corrcoef(pred_j[k, :], Y[Itest, j])[0,1]**2"
     ],
     "language": "python",
     "metadata": {},
     "outputs": [],
     "prompt_number": 17
    },
    {
     "cell_type": "code",
     "collapsed": false,
     "input": [
      "df = pd.DataFrame(Rsq, columns=environments)\n",
      "df[\"nQTLs\"] = range(maxiter+1)\n",
      "df.to_csv(\"output/nQTLs_distant_ver2.csv\")"
     ],
     "language": "python",
     "metadata": {},
     "outputs": []
    },
    {
     "cell_type": "heading",
     "level": 4,
     "metadata": {},
     "source": [
      "Identify QTLs in distant relatives"
     ]
    },
    {
     "cell_type": "code",
     "collapsed": false,
     "input": [
      "for i in range(1):\n",
      "    Itest = Itest_list[i]\n",
      "    Itrain = Idistant_list[i]\n",
      "    mydict=dict(Y=Y, snps=snps, Itrain=Itrain, Itest=Itest, pred_nQTLs=pred_nQTLs, maxiter=maxiter)\n",
      "    cluster.push(mydict)\n",
      "    res = cluster.map_sync(myfunction_qtl_additive, range(Y.shape[1]))\n",
      "    res_distant = res\n",
      "    pred = np.array([obj[\"pred\"] for obj in res]).T\n",
      "    if i==0:\n",
      "        Ypred_distant = pred\n",
      "        Yobs = Y[Itest, :]\n",
      "        Rsq_by_fold_distant = pd.DataFrame()\n",
      "        Rsq_and_nQTLs_distant = pd.DataFrame()\n",
      "    else:\n",
      "        Ypred_distant = np.row_stack((Ypred_distant, pred))\n",
      "        Yobs = np.row_stack((Yobs, Y[Itest, :]))\n",
      "    temp = pd.DataFrame(summarise_Rsq(Y[Itest, :], pred).T, columns = environments)\n",
      "    temp[\"fold\"] = i\n",
      "    Rsq_by_fold_distant = pd.concat((Rsq_by_fold_distant, temp))\n",
      "    \n",
      "    temp2 = pd.DataFrame(np.array([obj[\"Rsq_test\"] for obj in res]).T, columns=environments)\n",
      "    temp2[\"nQTLs\"] = pred_nQTLs\n",
      "    temp2[\"out_of_sample\"] = [\"Yes\"]*len(pred_nQTLs)\n",
      "    temp3 = pd.DataFrame(np.array([obj[\"Rsq_train\"] for obj in res]).T, columns=environments)\n",
      "    temp3[\"nQTLs\"] = pred_nQTLs\n",
      "    temp3[\"out_of_sample\"] = [\"No\"]*len(pred_nQTLs)\n",
      "    Rsq_and_nQTLs_distant = pd.concat((Rsq_and_nQTLs_distant, pd.concat((temp2, temp3))))"
     ],
     "language": "python",
     "metadata": {},
     "outputs": [],
     "prompt_number": 18
    },
    {
     "cell_type": "heading",
     "level": 4,
     "metadata": {},
     "source": [
      "Use QTLs from distant relatives and estimate their effects on close relatives"
     ]
    },
    {
     "cell_type": "code",
     "collapsed": false,
     "input": [
      "covs_list = [obj[\"covs\"] for obj in res_distant]\n",
      "for i in range(1):\n",
      "    Itest = Itest_list[i]\n",
      "    Itrain = Iclose_list[i]\n",
      "    Rsq = sp.zeros((maxiter+1, Y.shape[1]))\n",
      "    for j in range(Y.shape[1]):\n",
      "        pred_j = sp.zeros((maxiter+1, Itest.sum()))\n",
      "        for k in range(maxiter+1):\n",
      "            pred_j[k, :] = get_predictions_iid(Y[:, j], covs_list[j][:, 0:(k+1)], Itrain, Itest)\n",
      "            Rsq[k, j] = sp.corrcoef(pred_j[k, :], Y[Itest, j])[0,1]**2"
     ],
     "language": "python",
     "metadata": {},
     "outputs": [],
     "prompt_number": 20
    },
    {
     "cell_type": "code",
     "collapsed": false,
     "input": [
      "df = pd.DataFrame(Rsq, columns=environments)\n",
      "df[\"nQTLs\"] = range(maxiter+1)\n",
      "df.to_csv(\"output/nQTLs_distant_ver3.csv\")"
     ],
     "language": "python",
     "metadata": {},
     "outputs": [],
     "prompt_number": 20
    },
    {
     "cell_type": "code",
     "collapsed": false,
     "input": [
      "Rsq_and_nQTLs_close.to_csv(\"output/nQTLs_close.csv\")\n",
      "Rsq_and_nQTLs_distant.to_csv(\"output/nQTLs_distant.csv\")\n",
      "\n",
      "df = pd.concat((Rsq_by_fold_close, Rsq_by_fold_distant))\n",
      "df[\"relatives\"] = np.concatenate(([\"close\"], [\"distant\"]))\n",
      "df.to_csv(\"output/close_distant_QTLs.csv\")"
     ],
     "language": "python",
     "metadata": {},
     "outputs": [],
     "prompt_number": 20
    },
    {
     "cell_type": "code",
     "collapsed": false,
     "input": [],
     "language": "python",
     "metadata": {},
     "outputs": []
    }
   ],
   "metadata": {}
  }
 ]
}