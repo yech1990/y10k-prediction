{
 "metadata": {
  "name": "",
  "signature": "sha256:5e3bc084f77033a08f0b8b93ea44fbf70e5d5be8ede97e38895ca8818b9b0d0f"
 },
 "nbformat": 3,
 "nbformat_minor": 0,
 "worksheets": [
  {
   "cells": [
    {
     "cell_type": "code",
     "collapsed": false,
     "input": [
      "# activiate inline plotting\n",
      "%matplotlib inline\n",
      "\n",
      "import sys\n",
      "sys.path.append(\"/home/kaspar\")\n",
      "\n",
      "import numpy as np\n",
      "import scipy as sp\n",
      "import pandas as pd\n",
      "\n",
      "from y10k_prediction.helper_functions import summarise_Rsq"
     ],
     "language": "python",
     "metadata": {},
     "outputs": [],
     "prompt_number": 1
    },
    {
     "cell_type": "heading",
     "level": 3,
     "metadata": {},
     "source": [
      "Get data"
     ]
    },
    {
     "cell_type": "code",
     "collapsed": false,
     "input": [
      "from y10k_prediction.data_import import get_data_with_parents\n",
      "\n",
      "file_name = 'data/y10k_hybrids_Yield.hdf5'\n",
      "Y, snps, K, parent1, parent2, individuals, dataset, environments = get_data_with_parents(file_name)"
     ],
     "language": "python",
     "metadata": {},
     "outputs": [
      {
       "output_type": "stream",
       "stream": "stderr",
       "text": [
        "/home/kaspar/anaconda/lib/python2.7/site-packages/limix/io/genotype_reader.py:248: DeprecationWarning: openFile() is pending deprecation, use open_file() instead. You may use the pt2to3 tool to update your source code.\n",
        "  self.f = tables.openFile(self.file_name,'r')\n",
        "/home/kaspar/anaconda/lib/python2.7/site-packages/limix/io/phenotype_reader.py:31: DeprecationWarning: openFile() is pending deprecation, use open_file() instead. You may use the pt2to3 tool to update your source code.\n",
        "  self.f = tables.openFile(self.file_name,'r')\n"
       ]
      }
     ],
     "prompt_number": 2
    },
    {
     "cell_type": "heading",
     "level": 3,
     "metadata": {},
     "source": [
      "4-fold CV partitions into test and two sets of training sets (distant and close relatives)"
     ]
    },
    {
     "cell_type": "code",
     "collapsed": false,
     "input": [
      "from y10k_prediction.train_and_test_sets import get_4foldCV_close_and_distant\n",
      "\n",
      "sp.random.seed(0)\n",
      "Itest_list, Idistant_list, Iclose_list = get_4foldCV_close_and_distant(parent1, parent2)"
     ],
     "language": "python",
     "metadata": {},
     "outputs": [],
     "prompt_number": 3
    },
    {
     "cell_type": "heading",
     "level": 3,
     "metadata": {},
     "source": [
      "Prediction accuracy of BLUP, gradually increasing training set size"
     ]
    },
    {
     "cell_type": "code",
     "collapsed": false,
     "input": [
      "def gradual_sample(Itrain, n_values):\n",
      "    out = []\n",
      "    last_selection = sp.zeros_like(Itrain)\n",
      "    for i in range(len(n_values)):\n",
      "        ind = last_selection.copy()\n",
      "        ind[np.random.choice(np.where(Itrain & ~last_selection)[0], size=n_values[i]-last_selection.sum(), replace=False)] = True\n",
      "        out.append(ind.copy())\n",
      "    return out\n",
      "\n",
      "def gradual_sample2(Itrain, n_values, Iadded, n_added):\n",
      "    out = []\n",
      "    last_selection = sp.zeros_like(Itrain)\n",
      "    for i in range(len(n_values)):\n",
      "        ind = last_selection.copy()\n",
      "        newsize = n_added[i]-last_selection.sum()\n",
      "        ind[np.random.choice(np.where(Itrain & ~last_selection)[0], size=newsize, replace=False)] = True\n",
      "        last_selection = ind.copy()\n",
      "        out.append(last_selection)\n",
      "    all_ind = ind.copy()\n",
      "    last_selection = sp.zeros_like(Itrain)\n",
      "    for i in range(len(n_added)):\n",
      "        ind = last_selection.copy()\n",
      "        newsize = n_added[i]-last_selection.sum()\n",
      "        ind[np.random.choice(np.where(Iadded & ~ind)[0], size=newsize, replace=False)] = True\n",
      "        last_selection = ind.copy()\n",
      "        out.append((all_ind | last_selection).copy())\n",
      "    return out"
     ],
     "language": "python",
     "metadata": {},
     "outputs": [],
     "prompt_number": 4
    },
    {
     "cell_type": "code",
     "collapsed": false,
     "input": [
      "from IPython.parallel import Client\n",
      "c = Client()\n",
      "cluster = c[:]"
     ],
     "language": "python",
     "metadata": {},
     "outputs": [],
     "prompt_number": 5
    },
    {
     "cell_type": "code",
     "collapsed": false,
     "input": [
      "myfunction_blup = lambda j: get_BLUPs(Y[:, j:j+1], K, Itrain, Itest)\n",
      "\n",
      "cluster.execute('''\n",
      "import sys\n",
      "sys.path.append(\"/home/kaspar\")\n",
      "from y10k_prediction.BLUP import get_BLUPs\n",
      "''')"
     ],
     "language": "python",
     "metadata": {},
     "outputs": [
      {
       "metadata": {},
       "output_type": "pyout",
       "prompt_number": 6,
       "text": [
        "<AsyncResult: execute>"
       ]
      }
     ],
     "prompt_number": 6
    },
    {
     "cell_type": "code",
     "collapsed": false,
     "input": [
      "n_folds = 4\n",
      "for i in range(n_folds):\n",
      "    Itest = Itest_list[i]\n",
      "    Itrain_distant = Idistant_list[i]\n",
      "    Itrain_close = Iclose_list[i]\n",
      "    # create gradually increasing sample\n",
      "    n_values = [25, 50, 100, 200, 400, 800, 1640] \n",
      "    n_values_distant = np.concatenate((n_values, [(Itrain_distant).sum() + n for n in n_values]))\n",
      "    Itrain_close_list = gradual_sample(Itrain_close, n_values)\n",
      "    Itrain_distant_list = gradual_sample2(Itrain_distant, n_values, Itrain_close, n_values)\n",
      "    \n",
      "    temp_Rsq = sp.zeros((len(n_values), Y.shape[1]))\n",
      "    for k in range(len(n_values)):\n",
      "        Itrain = Itrain_close_list[k]\n",
      "        Itest = Itest\n",
      "        mydict=dict(Y=Y, K=K, Itrain=Itrain, Itest=Itest)\n",
      "        cluster.push(mydict)\n",
      "        res = cluster.map_sync(myfunction_blup, range(Y.shape[1]))\n",
      "        ypred = np.array([obj.ravel() for obj in res]).T\n",
      "        temp_Rsq[k, :] = summarise_Rsq(ypred, Y[Itest, :]).T\n",
      "    Rsq = pd.DataFrame(temp_Rsq, columns=environments)\n",
      "    Rsq[\"n\"] = n_values\n",
      "    Rsq[\"fold\"] = [i]*Rsq.shape[0]\n",
      "    if i==0:\n",
      "        Rsq_close = Rsq\n",
      "    else:\n",
      "        Rsq_close = pd.concat((Rsq_close, Rsq))\n",
      "        \n",
      "        \n",
      "    temp_Rsq = sp.zeros((len(n_values_distant), Y.shape[1]))\n",
      "    for k in range(len(n_values_distant)):\n",
      "        Itrain = Itrain_distant_list[k]\n",
      "        Itest = Itest\n",
      "        mydict=dict(Y=Y, K=K, Itrain=Itrain, Itest=Itest)\n",
      "        cluster.push(mydict)\n",
      "        res = cluster.map_sync(myfunction_blup, range(Y.shape[1]))\n",
      "        ypred = np.array([obj.ravel() for obj in res]).T\n",
      "        temp_Rsq[k, :] = summarise_Rsq(ypred, Y[Itest, :]).T\n",
      "    Rsq = pd.DataFrame(temp_Rsq, columns=environments)\n",
      "    Rsq[\"n\"] = n_values_distant\n",
      "    Rsq[\"fold\"] = [i]*Rsq.shape[0]\n",
      "    if i==0:\n",
      "        Rsq_distant = Rsq\n",
      "    else:\n",
      "        Rsq_distant = pd.concat((Rsq_distant, Rsq))"
     ],
     "language": "python",
     "metadata": {},
     "outputs": [],
     "prompt_number": 7
    },
    {
     "cell_type": "code",
     "collapsed": false,
     "input": [
      "Rsq_distant.to_csv(\"output/fig2c_distant.csv\")\n",
      "Rsq_close.to_csv(\"output/fig2c_close.csv\")"
     ],
     "language": "python",
     "metadata": {},
     "outputs": [],
     "prompt_number": 7
    },
    {
     "cell_type": "code",
     "collapsed": false,
     "input": [],
     "language": "python",
     "metadata": {},
     "outputs": []
    }
   ],
   "metadata": {}
  }
 ]
}