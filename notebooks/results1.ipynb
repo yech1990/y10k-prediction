{
 "metadata": {
  "name": "",
  "signature": "sha256:d5589da5b77eca23d3a6653c62aee651dc696864a6c05a1d1248249965ad0cab"
 },
 "nbformat": 3,
 "nbformat_minor": 0,
 "worksheets": [
  {
   "cells": [
    {
     "cell_type": "code",
     "collapsed": false,
     "input": [
      "# activiate inline plotting\n",
      "%matplotlib inline\n",
      "\n",
      "import sys\n",
      "sys.path.append(\"/home/kaspar\")\n",
      "\n",
      "import numpy as np\n",
      "import scipy as sp\n",
      "import pandas as pd\n",
      "\n",
      "from y10k_prediction_methods.helper_functions import summarise_Rsq"
     ],
     "language": "python",
     "metadata": {},
     "outputs": [],
     "prompt_number": 1
    },
    {
     "cell_type": "heading",
     "level": 3,
     "metadata": {},
     "source": [
      "Get data"
     ]
    },
    {
     "cell_type": "code",
     "collapsed": false,
     "input": [
      "from y10k_prediction_methods.data_import import get_data_with_parents\n",
      "\n",
      "file_name = 'data/y10k_hybrids_Yield.hdf5'\n",
      "Y, snps, K, parent1, parent2, individuals, dataset, environments = get_data_with_parents(file_name)"
     ],
     "language": "python",
     "metadata": {},
     "outputs": [
      {
       "output_type": "stream",
       "stream": "stderr",
       "text": [
        "/home/kaspar/anaconda/lib/python2.7/site-packages/limix/io/genotype_reader.py:248: DeprecationWarning: openFile() is pending deprecation, use open_file() instead. You may use the pt2to3 tool to update your source code.\n",
        "  self.f = tables.openFile(self.file_name,'r')\n",
        "/home/kaspar/anaconda/lib/python2.7/site-packages/limix/io/phenotype_reader.py:31: DeprecationWarning: openFile() is pending deprecation, use open_file() instead. You may use the pt2to3 tool to update your source code.\n",
        "  self.f = tables.openFile(self.file_name,'r')\n"
       ]
      }
     ],
     "prompt_number": 2
    },
    {
     "cell_type": "heading",
     "level": 3,
     "metadata": {},
     "source": [
      "4-fold CV partitions into test and training sets"
     ]
    },
    {
     "cell_type": "code",
     "collapsed": false,
     "input": [
      "from y10k_prediction_methods.train_and_test_sets import get_4foldCV\n",
      "\n",
      "sp.random.seed(0)\n",
      "Itest_list, Itrain_list = get_4foldCV(parent1, parent2)"
     ],
     "language": "python",
     "metadata": {},
     "outputs": [],
     "prompt_number": 3
    },
    {
     "cell_type": "heading",
     "level": 3,
     "metadata": {},
     "source": [
      "P model (predictions based on other phenotypes)"
     ]
    },
    {
     "cell_type": "code",
     "collapsed": false,
     "input": [
      "from sklearn import linear_model\n",
      "\n",
      "def other_phenos_pred(Y, Itrain, Itest):\n",
      "    P = Y.shape[1]\n",
      "    Ypred = sp.zeros_like(Y[Itest, :])\n",
      "    for j in range(P):\n",
      "        selected_phenos = sp.ones(P, dtype=bool)\n",
      "        selected_phenos[j] = False\n",
      "        lm = linear_model.LinearRegression()\n",
      "        lm.fit(Y[Itrain, :][:, selected_phenos], Y[Itrain, j])\n",
      "        Ypred[:, j] = lm.predict(Y[Itest, :][:, selected_phenos])\n",
      "    return Ypred"
     ],
     "language": "python",
     "metadata": {},
     "outputs": [],
     "prompt_number": 4
    },
    {
     "cell_type": "code",
     "collapsed": false,
     "input": [
      "for i in range(4):\n",
      "    Itrain = Itrain_list[i]\n",
      "    Itest = Itest_list[i]\n",
      "    pred = other_phenos_pred(Y, Itrain, Itest)\n",
      "    if i==0:\n",
      "        Ypred = pred\n",
      "        Yobs = Y[Itest, :]\n",
      "        Rsq_by_fold = pd.DataFrame()\n",
      "    else:\n",
      "        Ypred = np.row_stack((Ypred, pred))\n",
      "        Yobs = np.row_stack((Yobs, Y[Itest, :]))\n",
      "    temp = pd.DataFrame(summarise_Rsq(Y[Itest, :], pred).T, columns = environments)\n",
      "    temp[\"fold\"] = i\n",
      "    Rsq_by_fold = pd.concat((Rsq_by_fold, temp))"
     ],
     "language": "python",
     "metadata": {},
     "outputs": [],
     "prompt_number": 5
    },
    {
     "cell_type": "code",
     "collapsed": false,
     "input": [
      "pd.DataFrame(np.round(Ypred, 3), columns=environments).to_csv(\"output/Ypred_P.csv\")\n",
      "Rsq_by_fold.to_csv(\"output/P_by_fold.csv\")\n",
      "df = pd.DataFrame(summarise_Rsq(Ypred, Yobs).T, columns=environments)\n",
      "df.to_csv(\"output/P.csv\")"
     ],
     "language": "python",
     "metadata": {},
     "outputs": [],
     "prompt_number": 6
    },
    {
     "cell_type": "heading",
     "level": 3,
     "metadata": {},
     "source": [
      "QTLs model"
     ]
    },
    {
     "cell_type": "code",
     "collapsed": false,
     "input": [
      "# parallel computations\n",
      "from IPython.parallel import Client\n",
      "c = Client()\n",
      "cluster = c[:]"
     ],
     "language": "python",
     "metadata": {},
     "outputs": [],
     "prompt_number": 8
    },
    {
     "cell_type": "code",
     "collapsed": false,
     "input": [
      "def helper_QTLs_LM(Y_j, covs, Itrain, Itest):\n",
      "    pred_list = []\n",
      "    for i in range(covs.shape[1]):\n",
      "        covmat = covs[:, 0:(i+1)]\n",
      "        lm = linear_model.LinearRegression()\n",
      "        lm.fit(covmat[Itrain, :], Y_j[Itrain, :])\n",
      "        pred = lm.predict(covmat[Itest, :])\n",
      "        pred_list.append(pred)\n",
      "    return pred_list"
     ],
     "language": "python",
     "metadata": {},
     "outputs": [],
     "prompt_number": 9
    },
    {
     "cell_type": "code",
     "collapsed": false,
     "input": [
      "maxiter = 50\n",
      "pred_nQTLs = range(maxiter+1)\n",
      "myfunction_qtl_additive = lambda j: QTL_iid_predictions(Y, j, snps, Itrain, Itest, pred_nQTLs, maxiter=maxiter)\n",
      "\n",
      "cluster.execute('''\n",
      "import sys\n",
      "sys.path.append(\"/home/kaspar\")\n",
      "from y10k_prediction_methods.QTL_fitting import QTL_iid_predictions\n",
      "''')\n"
     ],
     "language": "python",
     "metadata": {},
     "outputs": [
      {
       "metadata": {},
       "output_type": "pyout",
       "prompt_number": 10,
       "text": [
        "<AsyncResult: execute>"
       ]
      }
     ],
     "prompt_number": 10
    },
    {
     "cell_type": "code",
     "collapsed": false,
     "input": [
      "for i in range(4):\n",
      "    print \"starting fold %s\" %i\n",
      "    Itest = Itest_list[i]\n",
      "    Itrain = Itrain_list[i]\n",
      "    mydict=dict(Y=Y, snps=snps, Itrain=Itrain, Itest=Itest, pred_nQTLs=pred_nQTLs, maxiter=maxiter)\n",
      "    cluster.push(mydict)\n",
      "    res = cluster.map_sync(myfunction_qtl_additive, range(Y.shape[1]))\n",
      "    pred = np.array([obj[\"pred\"] for obj in res]).T\n",
      "    if i==0:\n",
      "        Ypred = pred\n",
      "        Yobs = Y[Itest, :]\n",
      "        Rsq_by_fold = pd.DataFrame()\n",
      "        Rsq_and_nQTLs = pd.DataFrame()\n",
      "    else:\n",
      "        Ypred = np.row_stack((Ypred, pred))\n",
      "        Yobs = np.row_stack((Yobs, Y[Itest, :]))\n",
      "    temp = pd.DataFrame(summarise_Rsq(Y[Itest, :], pred).T, columns = environments)\n",
      "    temp[\"fold\"] = i\n",
      "    Rsq_by_fold = pd.concat((Rsq_by_fold, temp))\n",
      "    \n",
      "    temp2 = pd.DataFrame(np.array([obj[\"initial_Rsquared\"] for obj in res]).T, columns=environments)\n",
      "    temp2[\"nQTLs\"] = pred_nQTLs\n",
      "    Rsq_and_nQTLs = pd.concat((Rsq_and_nQTLs, temp2))"
     ],
     "language": "python",
     "metadata": {},
     "outputs": [],
     "prompt_number": 10
    },
    {
     "cell_type": "code",
     "collapsed": false,
     "input": [
      "pd.DataFrame(np.round(Ypred, 3), columns=environments).to_csv(\"output/Ypred_QTLs.csv\")\n",
      "Rsq_and_nQTLs.to_csv(\"output/nQTLs.csv\")\n",
      "Rsq_by_fold.to_csv(\"output/QTLs_by_fold.csv\")\n",
      "df = pd.DataFrame(summarise_Rsq(Yobs, Ypred).T, columns=environments)\n",
      "df.to_csv(\"output/QTLs.csv\")\n",
      "df"
     ],
     "language": "python",
     "metadata": {},
     "outputs": [],
     "prompt_number": 10
    },
    {
     "cell_type": "heading",
     "level": 3,
     "metadata": {},
     "source": [
      "BLUP"
     ]
    },
    {
     "cell_type": "code",
     "collapsed": false,
     "input": [
      "# parallel computations\n",
      "from IPython.parallel import Client\n",
      "c = Client()\n",
      "cluster = c[:]"
     ],
     "language": "python",
     "metadata": {},
     "outputs": [],
     "prompt_number": 11
    },
    {
     "cell_type": "code",
     "collapsed": false,
     "input": [
      "myfunction_blup = lambda j: get_BLUPs(Y[:, j:j+1], K, Itrain, Itest)\n",
      "\n",
      "cluster.execute('''\n",
      "import sys\n",
      "sys.path.append(\"/home/kaspar\")\n",
      "from y10k_prediction_methods.BLUP import get_BLUPs\n",
      "''')"
     ],
     "language": "python",
     "metadata": {},
     "outputs": [
      {
       "metadata": {},
       "output_type": "pyout",
       "prompt_number": 12,
       "text": [
        "<AsyncResult: execute>"
       ]
      }
     ],
     "prompt_number": 12
    },
    {
     "cell_type": "code",
     "collapsed": false,
     "input": [
      "for i in range(4):\n",
      "    print \"starting fold %s\" %i\n",
      "    Itest = Itest_list[i]\n",
      "    Itrain = Itrain_list[i]\n",
      "    mydict=dict(Y=Y, K=K, Itrain=Itrain, Itest=Itest)\n",
      "    cluster.push(mydict)\n",
      "    res = cluster.map_sync(myfunction_blup, range(Y.shape[1]))\n",
      "    pred = np.array([obj.ravel() for obj in res]).T\n",
      "    if i==0:\n",
      "        Ypred = pred\n",
      "        Yobs = Y[Itest, :]\n",
      "        Rsq_by_fold = pd.DataFrame()\n",
      "    else:\n",
      "        Ypred = np.row_stack((Ypred, pred))\n",
      "        Yobs = np.row_stack((Yobs, Y[Itest, :]))\n",
      "    temp = pd.DataFrame(summarise_Rsq(Y[Itest, :], pred).T, columns = environments)\n",
      "    temp[\"fold\"] = i\n",
      "    Rsq_by_fold = pd.concat((Rsq_by_fold, temp))"
     ],
     "language": "python",
     "metadata": {},
     "outputs": [],
     "prompt_number": 12
    },
    {
     "cell_type": "code",
     "collapsed": false,
     "input": [
      "pd.DataFrame(np.round(Ypred, 3), columns=environments).to_csv(\"output/Ypred_BLUP.csv\")\n",
      "Rsq_by_fold.to_csv(\"output/BLUP_by_fold.csv\")\n",
      "df = pd.DataFrame(summarise_Rsq(Ypred, Yobs).T, columns=environments)\n",
      "df.to_csv(\"output/BLUP.csv\")\n",
      "df"
     ],
     "language": "python",
     "metadata": {},
     "outputs": [],
     "prompt_number": 12
    },
    {
     "cell_type": "heading",
     "level": 3,
     "metadata": {},
     "source": [
      "Midparent predictions"
     ]
    },
    {
     "cell_type": "code",
     "collapsed": false,
     "input": [
      "from midparent import midparent_predictions\n",
      "\n",
      "for i in range(4):\n",
      "    Itest = Itest_list[i]\n",
      "    Itrain = Itrain_list[i]\n",
      "    temp, pred = midparent_predictions(Y, parent1, parent2, Itrain, Itest)\n",
      "    if i==0:\n",
      "        Ypred = pred\n",
      "        Yobs = Y[Itest, :]\n",
      "        Rsq_by_fold = pd.DataFrame()\n",
      "    else:\n",
      "        Ypred = np.row_stack((Ypred, pred))\n",
      "        Yobs = np.row_stack((Yobs, Y[Itest, :]))\n",
      "    temp = pd.DataFrame(summarise_Rsq(Y[Itest, :], pred).T, columns = environments)\n",
      "    temp[\"fold\"] = i\n",
      "    Rsq_by_fold = pd.concat((Rsq_by_fold, temp))"
     ],
     "language": "python",
     "metadata": {},
     "outputs": [],
     "prompt_number": 13
    },
    {
     "cell_type": "code",
     "collapsed": false,
     "input": [
      "pd.DataFrame(np.round(Ypred, 3), columns=environments).to_csv(\"output/Ypred_midparent.csv\")\n",
      "Rsq_by_fold.to_csv(\"output/midparent_by_fold.csv\")\n",
      "df = pd.DataFrame(summarise_Rsq(Yobs, Ypred).T, columns=environments)\n",
      "df.to_csv(\"output/midparent.csv\")\n",
      "df"
     ],
     "language": "python",
     "metadata": {},
     "outputs": [],
     "prompt_number": 13
    },
    {
     "cell_type": "heading",
     "level": 3,
     "metadata": {},
     "source": [
      "LMM"
     ]
    },
    {
     "cell_type": "code",
     "collapsed": false,
     "input": [
      "from IPython.parallel import Client\n",
      "c = Client()\n",
      "cluster = c[:]"
     ],
     "language": "python",
     "metadata": {},
     "outputs": [],
     "prompt_number": 22
    },
    {
     "cell_type": "code",
     "collapsed": false,
     "input": [
      "maxiter = 12\n",
      "pred_nQTLs = [5, 12]\n",
      "myfunction_LMM = lambda j: conditional_predictions(Y, j, snps, K, Itrain, Itest, pred_nQTLs, maxiter, allow_interactions=True, conditional=False, return_decomposition=False)\n",
      "\n",
      "execution_code = '''\n",
      "import sys\n",
      "sys.path.append(\"/home/kaspar\")\n",
      "from y10k_prediction_methods.LMM import conditional_predictions\n",
      "'''\n",
      "\n",
      "P = Y.shape[1]"
     ],
     "language": "python",
     "metadata": {},
     "outputs": [],
     "prompt_number": 23
    },
    {
     "cell_type": "code",
     "collapsed": false,
     "input": [
      "for i in range(4):\n",
      "    print \"starting fold %s\" %i\n",
      "    Itrain = Itrain_list[i]\n",
      "    Itest = Itest_list[i]\n",
      "\n",
      "    mydict=dict(Y=Y, snps=snps, K=K, Itrain=Itrain, Itest=Itest, pred_nQTLs=pred_nQTLs, maxiter=maxiter)\n",
      "    cluster.execute(execution_code)\n",
      "    cluster.push(mydict)\n",
      "    res = cluster.map_sync(myfunction_LMM, range(Y.shape[1]))\n",
      "    pred = np.array([obj[\"pred\"] for obj in res]).T\n",
      "    if i==0:\n",
      "        Ypred = pred\n",
      "        Yobs = Y[Itest, :]\n",
      "        Rsq_by_fold = pd.DataFrame()\n",
      "    else:\n",
      "        Ypred = np.row_stack((Ypred, pred))\n",
      "        Yobs = np.row_stack((Yobs, Y[Itest, :]))\n",
      "    temp = pd.DataFrame(summarise_Rsq(Y[Itest, :], pred).T, columns = environments)\n",
      "    temp[\"fold\"] = i\n",
      "    Rsq_by_fold = pd.concat((Rsq_by_fold, temp))"
     ],
     "language": "python",
     "metadata": {},
     "outputs": [],
     "prompt_number": 26
    },
    {
     "cell_type": "code",
     "collapsed": false,
     "input": [
      "pd.DataFrame(np.round(Ypred, 3), columns=environments).to_csv(\"output/Ypred_LMM.csv\")\n",
      "Rsq_by_fold.to_csv(\"output/LMM_by_fold.csv\")\n",
      "df = pd.DataFrame(summarise_Rsq(Yobs, Ypred).T, columns=environments)\n",
      "df.to_csv(\"output/LMM.csv\")"
     ],
     "language": "python",
     "metadata": {},
     "outputs": [],
     "prompt_number": 27
    },
    {
     "cell_type": "heading",
     "level": 3,
     "metadata": {},
     "source": [
      "LMM+P"
     ]
    },
    {
     "cell_type": "code",
     "collapsed": false,
     "input": [
      "from IPython.parallel import Client\n",
      "c = Client()\n",
      "cluster = c[:]"
     ],
     "language": "python",
     "metadata": {},
     "outputs": [],
     "prompt_number": 14
    },
    {
     "cell_type": "code",
     "collapsed": false,
     "input": [
      "maxiter = 12\n",
      "pred_nQTLs = [5, 6, 7, 8, 9, 10, 11, 12]\n",
      "myfunction_condLMM = lambda j: conditional_predictions(Y, j, snps, K, Itrain, Itest, pred_nQTLs, maxiter, allow_interactions=True, conditional=True, return_decomposition=False)\n",
      "\n",
      "execution_code = '''\n",
      "import sys\n",
      "sys.path.append(\"/home/kaspar\")\n",
      "from y10k_prediction_methods.LMM import conditional_predictions\n",
      "'''\n",
      "\n",
      "P = Y.shape[1]"
     ],
     "language": "python",
     "metadata": {},
     "outputs": [],
     "prompt_number": 14
    },
    {
     "cell_type": "code",
     "collapsed": false,
     "input": [
      "for i in range(4):\n",
      "    print \"starting fold %s\" %i\n",
      "    Itrain = Itrain_list[i]\n",
      "    Itest = Itest_list[i]\n",
      "\n",
      "    mydict=dict(Y=Y, snps=snps, K=K, Itrain=Itrain, Itest=Itest, pred_nQTLs=pred_nQTLs, maxiter=maxiter)\n",
      "    cluster.execute(execution_code)\n",
      "    cluster.push(mydict)\n",
      "    res = cluster.map_sync(myfunction_condLMM, range(Y.shape[1]))\n",
      "    pred = np.array([obj[\"pred\"] for obj in res]).T\n",
      "    if i==0:\n",
      "        Ypred = pred\n",
      "        Yobs = Y[Itest, :]\n",
      "        Rsq_by_fold = pd.DataFrame()\n",
      "    else:\n",
      "        Ypred = np.row_stack((Ypred, pred))\n",
      "        Yobs = np.row_stack((Yobs, Y[Itest, :]))\n",
      "    temp = pd.DataFrame(summarise_Rsq(Y[Itest, :], pred).T, columns = environments)\n",
      "    temp[\"fold\"] = i\n",
      "    Rsq_by_fold = pd.concat((Rsq_by_fold, temp))"
     ],
     "language": "python",
     "metadata": {},
     "outputs": [],
     "prompt_number": 14
    },
    {
     "cell_type": "code",
     "collapsed": false,
     "input": [
      "pd.DataFrame(np.round(Ypred, 3), columns=environments).to_csv(\"output/Ypred_LMMP.csv\")\n",
      "Rsq_by_fold.to_csv(\"output/LMMP_by_fold.csv\")\n",
      "df = pd.DataFrame(summarise_Rsq(Yobs, Ypred).T, columns=environments)\n",
      "df.to_csv(\"output/LMMP.csv\")\n",
      "df"
     ],
     "language": "python",
     "metadata": {},
     "outputs": [],
     "prompt_number": 14
    },
    {
     "cell_type": "code",
     "collapsed": false,
     "input": [],
     "language": "python",
     "metadata": {},
     "outputs": []
    }
   ],
   "metadata": {}
  }
 ]
}