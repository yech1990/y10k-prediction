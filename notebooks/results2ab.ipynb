{
 "metadata": {
  "name": "",
  "signature": "sha256:4d4498e6c60807d942f07bfefd625370246a009c259975b310895a38d93efb4d"
 },
 "nbformat": 3,
 "nbformat_minor": 0,
 "worksheets": [
  {
   "cells": [
    {
     "cell_type": "code",
     "collapsed": false,
     "input": [
      "# activiate inline plotting\n",
      "%matplotlib inline\n",
      "\n",
      "import sys\n",
      "sys.path.append(\"/home/kaspar\")\n",
      "\n",
      "%load_ext autoreload\n",
      "%autoreload 2\n",
      "\n",
      "import numpy as np\n",
      "import scipy as sp\n",
      "import pandas as pd\n",
      "\n",
      "from y10k_prediction.helper_functions import summarise_Rsq"
     ],
     "language": "python",
     "metadata": {},
     "outputs": [],
     "prompt_number": 1
    },
    {
     "cell_type": "heading",
     "level": 3,
     "metadata": {},
     "source": [
      "Get data"
     ]
    },
    {
     "cell_type": "code",
     "collapsed": false,
     "input": [
      "from y10k_prediction.data_import import get_data_with_parents\n",
      "\n",
      "file_name = 'data/y10k_hybrids_Yield.hdf5'\n",
      "Y, snps, K, parent1, parent2, individuals, dataset, environments = get_data_with_parents(file_name)"
     ],
     "language": "python",
     "metadata": {},
     "outputs": [
      {
       "output_type": "stream",
       "stream": "stderr",
       "text": [
        "/home/kaspar/anaconda/lib/python2.7/site-packages/limix/io/genotype_reader.py:248: DeprecationWarning: openFile() is pending deprecation, use open_file() instead. You may use the pt2to3 tool to update your source code.\n",
        "  self.f = tables.openFile(self.file_name,'r')\n",
        "/home/kaspar/anaconda/lib/python2.7/site-packages/limix/io/phenotype_reader.py:31: DeprecationWarning: openFile() is pending deprecation, use open_file() instead. You may use the pt2to3 tool to update your source code.\n",
        "  self.f = tables.openFile(self.file_name,'r')\n"
       ]
      }
     ],
     "prompt_number": 2
    },
    {
     "cell_type": "heading",
     "level": 3,
     "metadata": {},
     "source": [
      "4-fold CV partitions into test and two sets of training sets (distant and close relatives)"
     ]
    },
    {
     "cell_type": "code",
     "collapsed": false,
     "input": [
      "from y10k_prediction.train_and_test_sets import get_4foldCV_close_and_distant\n",
      "\n",
      "sp.random.seed(0)\n",
      "Itest_list, Idistant_list, Iclose_list = get_4foldCV_close_and_distant(parent1, parent2)"
     ],
     "language": "python",
     "metadata": {},
     "outputs": [],
     "prompt_number": 3
    },
    {
     "cell_type": "heading",
     "level": 3,
     "metadata": {},
     "source": [
      "BLUP"
     ]
    },
    {
     "cell_type": "code",
     "collapsed": false,
     "input": [
      "from IPython.parallel import Client\n",
      "c = Client()\n",
      "cluster = c[:]"
     ],
     "language": "python",
     "metadata": {},
     "outputs": [],
     "prompt_number": 5
    },
    {
     "cell_type": "code",
     "collapsed": false,
     "input": [
      "myfunction_blup = lambda j: get_BLUPs(Y[:, j:j+1], K, Itrain, Itest)\n",
      "\n",
      "cluster.execute('''\n",
      "import sys\n",
      "sys.path.append(\"/home/kaspar/yeast/code/\")\n",
      "from y10k_prediction.BLUP import get_BLUPs\n",
      "''')"
     ],
     "language": "python",
     "metadata": {},
     "outputs": [
      {
       "metadata": {},
       "output_type": "pyout",
       "prompt_number": 6,
       "text": [
        "<AsyncResult: execute>"
       ]
      }
     ],
     "prompt_number": 6
    },
    {
     "cell_type": "code",
     "collapsed": false,
     "input": [
      "for i in range(4):\n",
      "    print \"starting fold %s\" %i\n",
      "    Itest = Itest_list[i]\n",
      "    Itrain = Iclose_list[i]\n",
      "    mydict=dict(Y=Y, K=K, Itrain=Itrain, Itest=Itest)\n",
      "    cluster.push(mydict)\n",
      "    res = cluster.map_sync(myfunction_blup, range(Y.shape[1]))\n",
      "    pred = np.array([obj.ravel() for obj in res]).T\n",
      "    if i==0:\n",
      "        Ypred_close = pred\n",
      "        Yobs = Y[Itest, :]\n",
      "        Rsq_by_fold_close = pd.DataFrame()\n",
      "    else:\n",
      "        Ypred_close = np.row_stack((Ypred_close, pred))\n",
      "        Yobs = np.row_stack((Yobs, Y[Itest, :]))\n",
      "    temp = pd.DataFrame(summarise_Rsq(Y[Itest, :], pred).T, columns = environments)\n",
      "    temp[\"fold\"] = i\n",
      "    temp[\"type\"] = \"close\"\n",
      "    Rsq_by_fold_close = pd.concat((Rsq_by_fold_close, temp))\n",
      "    \n",
      "    Itest = Itest_list[i]\n",
      "    Itrain = Idistant_list[i]\n",
      "    mydict=dict(Y=Y, K=K, Itrain=Itrain, Itest=Itest)\n",
      "    cluster.push(mydict)\n",
      "    res = cluster.map_sync(myfunction_blup, range(Y.shape[1]))\n",
      "    pred = np.array([obj.ravel() for obj in res]).T\n",
      "    if i==0:\n",
      "        Ypred_distant = pred\n",
      "        Rsq_by_fold_distant = pd.DataFrame()\n",
      "    else:\n",
      "        Ypred_distant = np.row_stack((Ypred_distant, pred))\n",
      "    temp = pd.DataFrame(summarise_Rsq(Y[Itest, :], pred).T, columns = environments)\n",
      "    temp[\"fold\"] = i\n",
      "    temp[\"type\"] = \"distant\"\n",
      "    Rsq_by_fold_distant = pd.concat((Rsq_by_fold_distant, temp))"
     ],
     "language": "python",
     "metadata": {},
     "outputs": [
      {
       "output_type": "stream",
       "stream": "stdout",
       "text": [
        "starting fold 0\n",
        "starting fold 1"
       ]
      },
      {
       "output_type": "stream",
       "stream": "stdout",
       "text": [
        "\n",
        "starting fold 2"
       ]
      },
      {
       "output_type": "stream",
       "stream": "stdout",
       "text": [
        "\n",
        "starting fold 3"
       ]
      },
      {
       "output_type": "stream",
       "stream": "stdout",
       "text": [
        "\n"
       ]
      }
     ],
     "prompt_number": 7
    },
    {
     "cell_type": "code",
     "collapsed": false,
     "input": [
      "df1 = pd.DataFrame(summarise_Rsq(Ypred_distant, Yobs).T, columns=environments)\n",
      "df2 = pd.DataFrame(summarise_Rsq(Ypred_close, Yobs).T, columns=environments)\n",
      "df = pd.concat((df1, df2))\n",
      "df[\"type\"] = [\"distant\", \"close\"]\n",
      "df.to_csv(\"output/close_distant_BLUP.csv\")"
     ],
     "language": "python",
     "metadata": {},
     "outputs": [],
     "prompt_number": 9
    },
    {
     "cell_type": "code",
     "collapsed": false,
     "input": [
      "pd.DataFrame(np.round(Ypred_close, 3), columns=environments).to_csv(\"output/Ypred_blup_close.csv\")\n",
      "pd.DataFrame(np.round(Ypred_distant, 3), columns=environments).to_csv(\"output/Ypred_blup_distant.csv\")"
     ],
     "language": "python",
     "metadata": {},
     "outputs": [],
     "prompt_number": 11
    },
    {
     "cell_type": "heading",
     "level": 3,
     "metadata": {},
     "source": [
      "Other phenotypes (P model)"
     ]
    },
    {
     "cell_type": "code",
     "collapsed": false,
     "input": [
      "from sklearn import linear_model\n",
      "\n",
      "def other_phenos_pred(Y, Itrain, Itest):\n",
      "    P = Y.shape[1]\n",
      "    Ypred = sp.zeros_like(Y[Itest, :])\n",
      "    for j in range(P):\n",
      "        selected_phenos = sp.ones(P, dtype=bool)\n",
      "        selected_phenos[j] = False\n",
      "        lm = linear_model.LinearRegression()\n",
      "        lm.fit(Y[Itrain, :][:, selected_phenos], Y[Itrain, j])\n",
      "        Ypred[:, j] = lm.predict(Y[Itest, :][:, selected_phenos])\n",
      "    return Ypred"
     ],
     "language": "python",
     "metadata": {},
     "outputs": [],
     "prompt_number": 13
    },
    {
     "cell_type": "code",
     "collapsed": false,
     "input": [
      "for i in range(4):\n",
      "    print \"starting fold %s\" %i\n",
      "    Itest = Itest_list[i]\n",
      "    Itrain = Iclose_list[i]\n",
      "    pred = other_phenos_pred(Y, Itrain, Itest)\n",
      "    if i==0:\n",
      "        Ypred_close = pred\n",
      "        Yobs = Y[Itest, :]\n",
      "        Rsq_by_fold_close = pd.DataFrame()\n",
      "    else:\n",
      "        Ypred_close = np.row_stack((Ypred_close, pred))\n",
      "        Yobs = np.row_stack((Yobs, Y[Itest, :]))\n",
      "    temp = pd.DataFrame(summarise_Rsq(Y[Itest, :], pred).T, columns = environments)\n",
      "    temp[\"fold\"] = i\n",
      "    temp[\"type\"] = \"close\"\n",
      "    Rsq_by_fold_close = pd.concat((Rsq_by_fold_close, temp))\n",
      "    \n",
      "    Itest = Itest_list[i]\n",
      "    Itrain = Idistant_list[i]\n",
      "    pred = other_phenos_pred(Y, Itrain, Itest)\n",
      "    if i==0:\n",
      "        Ypred_distant = pred\n",
      "        Rsq_by_fold_distant = pd.DataFrame()\n",
      "    else:\n",
      "        Ypred_distant = np.row_stack((Ypred_distant, pred))\n",
      "    temp = pd.DataFrame(summarise_Rsq(Y[Itest, :], pred).T, columns = environments)\n",
      "    temp[\"fold\"] = i\n",
      "    temp[\"type\"] = \"distant\"\n",
      "    Rsq_by_fold_distant = pd.concat((Rsq_by_fold_distant, temp))"
     ],
     "language": "python",
     "metadata": {},
     "outputs": [
      {
       "output_type": "stream",
       "stream": "stdout",
       "text": [
        "starting fold 0\n",
        "starting fold 1"
       ]
      },
      {
       "output_type": "stream",
       "stream": "stdout",
       "text": [
        "\n",
        "starting fold 2"
       ]
      },
      {
       "output_type": "stream",
       "stream": "stdout",
       "text": [
        "\n",
        "starting fold 3"
       ]
      },
      {
       "output_type": "stream",
       "stream": "stdout",
       "text": [
        "\n"
       ]
      }
     ],
     "prompt_number": 14
    },
    {
     "cell_type": "code",
     "collapsed": false,
     "input": [
      "df1 = pd.DataFrame(summarise_Rsq(Ypred_distant, Yobs).T, columns=environments)\n",
      "df2 = pd.DataFrame(summarise_Rsq(Ypred_close, Yobs).T, columns=environments)\n",
      "df = pd.concat((df1, df2))\n",
      "df[\"type\"] = [\"distant\", \"close\"]\n",
      "df.to_csv(\"output/close_distant_P.csv\")"
     ],
     "language": "python",
     "metadata": {},
     "outputs": [],
     "prompt_number": 15
    },
    {
     "cell_type": "code",
     "collapsed": false,
     "input": [
      "pd.DataFrame(np.round(Ypred_close, 3), columns=environments).to_csv(\"output/Ypred_P_close.csv\")\n",
      "pd.DataFrame(np.round(Ypred_distant, 3), columns=environments).to_csv(\"output/Ypred_P_distant.csv\")"
     ],
     "language": "python",
     "metadata": {},
     "outputs": [],
     "prompt_number": 17
    },
    {
     "cell_type": "heading",
     "level": 3,
     "metadata": {},
     "source": [
      "QTLs"
     ]
    },
    {
     "cell_type": "code",
     "collapsed": false,
     "input": [
      "from IPython.parallel import Client\n",
      "c = Client()\n",
      "cluster = c[:]"
     ],
     "language": "python",
     "metadata": {},
     "outputs": [],
     "prompt_number": 18
    },
    {
     "cell_type": "code",
     "collapsed": false,
     "input": [
      "maxiter = 25\n",
      "pred_nQTLs = range(maxiter+1)\n",
      "myfunction_qtl_additive = lambda j: QTL_iid_predictions(Y, j, snps, Itrain, Itest, pred_nQTLs, maxiter=maxiter)\n",
      "\n",
      "cluster.execute('''\n",
      "import sys\n",
      "sys.path.append(\"/home/kaspar/yeast/code/\")\n",
      "from y10k_prediction.QTL_fitting import QTL_iid_predictions\n",
      "''')"
     ],
     "language": "python",
     "metadata": {},
     "outputs": [
      {
       "metadata": {},
       "output_type": "pyout",
       "prompt_number": 22,
       "text": [
        "<AsyncResult: execute>"
       ]
      }
     ],
     "prompt_number": 22
    },
    {
     "cell_type": "code",
     "collapsed": false,
     "input": [
      "for i in range(4):\n",
      "    print \"starting fold %s\" %i\n",
      "    Itest = Itest_list[i]\n",
      "    Itrain = Iclose_list[i]\n",
      "    mydict=dict(Y=Y, snps=snps, Itrain=Itrain, Itest=Itest, pred_nQTLs=pred_nQTLs, maxiter=maxiter)\n",
      "    cluster.push(mydict)\n",
      "    res = cluster.map_sync(myfunction_qtl_additive, range(Y.shape[1]))\n",
      "    pred = np.array([obj[\"pred\"] for obj in res]).T\n",
      "    if i==0:\n",
      "        Ypred_close = pred\n",
      "        Yobs = Y[Itest, :]\n",
      "        Rsq_by_fold_close = pd.DataFrame()\n",
      "        Rsq_and_nQTLs_close = pd.DataFrame()\n",
      "    else:\n",
      "        Ypred_close = np.row_stack((Ypred_close, pred))\n",
      "        Yobs = np.row_stack((Yobs, Y[Itest, :]))\n",
      "    temp = pd.DataFrame(summarise_Rsq(Y[Itest, :], pred).T, columns = environments)\n",
      "    temp[\"fold\"] = i\n",
      "    temp[\"type\"] = \"close\"\n",
      "    Rsq_by_fold_close = pd.concat((Rsq_by_fold_close, temp))\n",
      "    temp2 = pd.DataFrame(np.array([obj[\"initial_Rsquared\"] for obj in res]).T, columns=environments)\n",
      "    temp2[\"nQTLs\"] = pred_nQTLs\n",
      "    Rsq_and_nQTLs_close = pd.concat((Rsq_and_nQTLs_close, temp2))\n",
      "    \n",
      "    Itest = Itest_list[i]\n",
      "    Itrain = Idistant_list[i]\n",
      "    mydict=dict(Y=Y, snps=snps, Itrain=Itrain, Itest=Itest, pred_nQTLs=pred_nQTLs, maxiter=maxiter)\n",
      "    cluster.push(mydict)\n",
      "    res = cluster.map_sync(myfunction_qtl_additive, range(Y.shape[1]))\n",
      "    pred = np.array([obj[\"pred\"] for obj in res]).T\n",
      "    if i==0:\n",
      "        Ypred_distant = pred\n",
      "        Rsq_by_fold_distant = pd.DataFrame()\n",
      "        Rsq_and_nQTLs_distant = pd.DataFrame()\n",
      "    else:\n",
      "        Ypred_distant = np.row_stack((Ypred_distant, pred))\n",
      "    temp = pd.DataFrame(summarise_Rsq(Y[Itest, :], pred).T, columns = environments)\n",
      "    temp[\"fold\"] = i\n",
      "    temp[\"type\"] = \"distant\"\n",
      "    Rsq_by_fold_distant = pd.concat((Rsq_by_fold_distant, temp))\n",
      "    temp2 = pd.DataFrame(np.array([obj[\"initial_Rsquared\"] for obj in res]).T, columns=environments)\n",
      "    temp2[\"nQTLs\"] = pred_nQTLs\n",
      "    Rsq_and_nQTLs_distant = pd.concat((Rsq_and_nQTLs_distant, temp2))"
     ],
     "language": "python",
     "metadata": {},
     "outputs": [
      {
       "output_type": "stream",
       "stream": "stdout",
       "text": [
        "starting fold 0\n",
        "starting fold 1"
       ]
      },
      {
       "output_type": "stream",
       "stream": "stdout",
       "text": [
        "\n",
        "starting fold 2"
       ]
      },
      {
       "output_type": "stream",
       "stream": "stdout",
       "text": [
        "\n",
        "starting fold 3"
       ]
      },
      {
       "output_type": "stream",
       "stream": "stdout",
       "text": [
        "\n"
       ]
      }
     ],
     "prompt_number": 23
    },
    {
     "cell_type": "code",
     "collapsed": false,
     "input": [
      "pd.DataFrame(np.round(Ypred_close, 3), columns=environments).to_csv(\"output/Ypred_QTLs_close.csv\")\n",
      "pd.DataFrame(np.round(Ypred_distant, 3), columns=environments).to_csv(\"output/Ypred_QTLs_distant.csv\")"
     ],
     "language": "python",
     "metadata": {},
     "outputs": [],
     "prompt_number": 24
    },
    {
     "cell_type": "code",
     "collapsed": false,
     "input": [
      "df1 = pd.DataFrame(summarise_Rsq(Ypred_distant, Yobs).T, columns=environments)\n",
      "df2 = pd.DataFrame(summarise_Rsq(Ypred_close, Yobs).T, columns=environments)\n",
      "df = pd.concat((df1, df2))\n",
      "df[\"type\"] = [\"distant\", \"close\"]\n",
      "df.to_csv(\"output/close_distant_QTLs.csv\")\n",
      "df"
     ],
     "language": "python",
     "metadata": {},
     "outputs": [
      {
       "html": [
        "<div style=\"max-height:1000px;max-width:1500px;overflow:auto;\">\n",
        "<table border=\"1\" class=\"dataframe\">\n",
        "  <thead>\n",
        "    <tr style=\"text-align: right;\">\n",
        "      <th></th>\n",
        "      <th>Allantoin</th>\n",
        "      <th>Caffeine</th>\n",
        "      <th>Galactose</th>\n",
        "      <th>Glycine</th>\n",
        "      <th>Hydroxyurea</th>\n",
        "      <th>Isoleucine</th>\n",
        "      <th>NaCl</th>\n",
        "      <th>Phleomycin</th>\n",
        "      <th>Rapamycin</th>\n",
        "      <th>type</th>\n",
        "    </tr>\n",
        "  </thead>\n",
        "  <tbody>\n",
        "    <tr>\n",
        "      <th>0</th>\n",
        "      <td> 0.595618</td>\n",
        "      <td> 0.016805</td>\n",
        "      <td> 0.556914</td>\n",
        "      <td> 0.066559</td>\n",
        "      <td> 0.115467</td>\n",
        "      <td> 0.224906</td>\n",
        "      <td> 0.086602</td>\n",
        "      <td> 0.024513</td>\n",
        "      <td> 0.149456</td>\n",
        "      <td> distant</td>\n",
        "    </tr>\n",
        "    <tr>\n",
        "      <th>0</th>\n",
        "      <td> 0.665666</td>\n",
        "      <td> 0.734640</td>\n",
        "      <td> 0.824784</td>\n",
        "      <td> 0.574661</td>\n",
        "      <td> 0.694989</td>\n",
        "      <td> 0.681135</td>\n",
        "      <td> 0.748688</td>\n",
        "      <td> 0.575475</td>\n",
        "      <td> 0.732331</td>\n",
        "      <td>   close</td>\n",
        "    </tr>\n",
        "  </tbody>\n",
        "</table>\n",
        "</div>"
       ],
       "metadata": {},
       "output_type": "pyout",
       "prompt_number": 25,
       "text": [
        "   Allantoin  Caffeine  Galactose   Glycine  Hydroxyurea  Isoleucine  \\\n",
        "0   0.595618  0.016805   0.556914  0.066559     0.115467    0.224906   \n",
        "0   0.665666  0.734640   0.824784  0.574661     0.694989    0.681135   \n",
        "\n",
        "       NaCl  Phleomycin  Rapamycin     type  \n",
        "0  0.086602    0.024513   0.149456  distant  \n",
        "0  0.748688    0.575475   0.732331    close  "
       ]
      }
     ],
     "prompt_number": 25
    },
    {
     "cell_type": "heading",
     "level": 3,
     "metadata": {},
     "source": [
      "LMM"
     ]
    },
    {
     "cell_type": "code",
     "collapsed": false,
     "input": [
      "from IPython.parallel import Client\n",
      "c = Client()\n",
      "cluster = c[:]"
     ],
     "language": "python",
     "metadata": {},
     "outputs": [],
     "prompt_number": 9
    },
    {
     "cell_type": "code",
     "collapsed": false,
     "input": [
      "maxiter = 10\n",
      "pred_nQTLs = [1, 5, 10]\n",
      "myfunction_condLMM = lambda j: conditional_predictions(Y, j, snps, K, Itrain, Itest, pred_nQTLs, maxiter, allow_interactions=True, conditional=False, return_decomposition=False)\n",
      "\n",
      "execution_code = '''\n",
      "import sys\n",
      "sys.path.append(\"/home/kaspar/yeast/code/\")\n",
      "from y10k_prediction.LMM import conditional_predictions\n",
      "'''\n",
      "\n",
      "P = Y.shape[1]\n",
      "n_folds = 4"
     ],
     "language": "python",
     "metadata": {},
     "outputs": [],
     "prompt_number": 10
    },
    {
     "cell_type": "code",
     "collapsed": false,
     "input": [
      "for i in range(4):\n",
      "    print \"starting fold %s\" %i\n",
      "    Itest = Itest_list[i]\n",
      "    Itrain = Iclose_list[i]\n",
      "    cluster.execute(execution_code)\n",
      "    mydict=dict(Y=Y, snps=snps, K=K, Itrain=Itrain, Itest=Itest, pred_nQTLs=pred_nQTLs, maxiter=maxiter)\n",
      "    cluster.push(mydict)\n",
      "    res = cluster.map_sync(myfunction_condLMM, range(Y.shape[1]))\n",
      "    pred_close = np.array([obj[\"pred\"] for obj in res]).T\n",
      "    if i==0:\n",
      "        Ypred_close = pred_close\n",
      "        Yobs = Y[Itest, :]\n",
      "        Rsq_by_fold = pd.DataFrame()\n",
      "        res_close_list = []\n",
      "    else:\n",
      "        Ypred_close = np.row_stack((Ypred_close, pred_close))\n",
      "        Yobs = np.row_stack((Yobs, Y[Itest, :]))\n",
      "    res_close_list.append(res)\n",
      "    \n",
      "    print \"\\tclose finished\"\n",
      "    \n",
      "    Itest = Itest_list[i]\n",
      "    Itrain = Idistant_list[i]\n",
      "    mydict=dict(Y=Y, snps=snps, K=K, Itrain=Itrain, Itest=Itest, pred_nQTLs=pred_nQTLs, maxiter=maxiter)\n",
      "    cluster.push(mydict)\n",
      "    res = cluster.map_sync(myfunction_condLMM, range(Y.shape[1]))\n",
      "    pred_distant = np.array([obj[\"pred\"] for obj in res]).T\n",
      "    if i==0:\n",
      "        Ypred_distant = pred_distant\n",
      "        res_distant_list = []\n",
      "    else:\n",
      "        Ypred_distant = np.row_stack((Ypred_distant, pred_distant))\n",
      "    res_distant_list.append(res)\n",
      "\n",
      "    print \"\\tdistant finished\"\n",
      "    \n",
      "    cluster.clear()\n",
      "\n",
      "    temp = pd.DataFrame(np.row_stack((summarise_Rsq(Y[Itest, :], pred_close).T, \n",
      "                                      summarise_Rsq(Y[Itest, :], pred_distant).T)), columns=environments)\n",
      "    temp[\"fold\"] = [i, i]\n",
      "    temp[\"type\"] = [\"close\", \"distant\"]\n",
      "    Rsq_by_fold = pd.concat((Rsq_by_fold, temp))"
     ],
     "language": "python",
     "metadata": {},
     "outputs": [
      {
       "output_type": "stream",
       "stream": "stdout",
       "text": [
        "starting fold 0\n",
        "\tclose finished"
       ]
      },
      {
       "output_type": "stream",
       "stream": "stdout",
       "text": [
        "\n",
        "\tdistant finished"
       ]
      },
      {
       "output_type": "stream",
       "stream": "stdout",
       "text": [
        "\n",
        "starting fold 1\n",
        "\tclose finished"
       ]
      },
      {
       "output_type": "stream",
       "stream": "stdout",
       "text": [
        "\n",
        "\tdistant finished"
       ]
      },
      {
       "output_type": "stream",
       "stream": "stdout",
       "text": [
        "\n",
        "starting fold 2\n",
        "\tclose finished"
       ]
      },
      {
       "output_type": "stream",
       "stream": "stdout",
       "text": [
        "\n",
        "\tdistant finished"
       ]
      },
      {
       "output_type": "stream",
       "stream": "stdout",
       "text": [
        "\n",
        "starting fold 3\n",
        "\tclose finished"
       ]
      },
      {
       "output_type": "stream",
       "stream": "stdout",
       "text": [
        "\n",
        "\tdistant finished"
       ]
      },
      {
       "output_type": "stream",
       "stream": "stdout",
       "text": [
        "\n"
       ]
      }
     ],
     "prompt_number": 11
    },
    {
     "cell_type": "code",
     "collapsed": false,
     "input": [
      "pd.DataFrame(np.round(Ypred_close, 3), columns=environments).to_csv(\"output/Ypred_LMM_close.csv\")\n",
      "pd.DataFrame(np.round(Ypred_distant, 3), columns=environments).to_csv(\"output/Ypred_LMM_distant.csv\")"
     ],
     "language": "python",
     "metadata": {},
     "outputs": [],
     "prompt_number": 12
    },
    {
     "cell_type": "code",
     "collapsed": false,
     "input": [
      "import pickle\n",
      "\n",
      "pickle.dump(res_close_list, open(\"output/close_distant/covs_list_LMM_close.p\", \"wb\"))\n",
      "pickle.dump(res_distant_list, open(\"output/close_distant/covs_list_LMM_distant.p\", \"wb\"))"
     ],
     "language": "python",
     "metadata": {},
     "outputs": [],
     "prompt_number": 16
    },
    {
     "cell_type": "code",
     "collapsed": false,
     "input": [
      "df1 = pd.DataFrame(summarise_Rsq(Ypred_distant, Yobs).T, columns=environments)\n",
      "df2 = pd.DataFrame(summarise_Rsq(Ypred_close, Yobs).T, columns=environments)\n",
      "df = pd.concat((df1, df2))\n",
      "df[\"type\"] = [\"distant\", \"close\"]\n",
      "df.to_csv(\"output/close_distant_LMM.csv\")\n",
      "Rsq_by_fold.to_csv(\"output/close_distant_LMM_by_fold.csv\")"
     ],
     "language": "python",
     "metadata": {},
     "outputs": [],
     "prompt_number": 14
    },
    {
     "cell_type": "heading",
     "level": 3,
     "metadata": {},
     "source": [
      "MT-LMM"
     ]
    },
    {
     "cell_type": "code",
     "collapsed": false,
     "input": [
      "import pickle\n",
      "# take results from previous LMM section\n",
      "res_close_list = pickle.load(open(\"output/close_distant/covs_list_LMM_close.p\", \"rb\"))\n",
      "res_distant_list = pickle.load(open(\"output/close_distant/covs_list_LMM_distant.p\", \"rb\"))"
     ],
     "language": "python",
     "metadata": {},
     "outputs": [],
     "prompt_number": 4
    },
    {
     "cell_type": "code",
     "collapsed": false,
     "input": [
      "from y10k_prediction.MTLMM import build_MT_LMM, MTLMM_conditional_pred\n",
      "from y10k_prediction.LMM import *\n",
      "\n",
      "for i in range(4):\n",
      "    print \"starting fold %s\" %i\n",
      "    Itest = Itest_list[i]\n",
      "    Itrain = Iclose_list[i]\n",
      "    res = res_close_list[i]\n",
      "    covs_list = [obj[\"covs\"] for obj in res]\n",
      "    m = build_MT_LMM(Y, K, covs_list, Itrain)\n",
      "    ypred_close, ymarginalpred_close = MTLMM_conditional_pred(Y, K, Itrain, Itest, m)\n",
      "    if i==0:\n",
      "        Ypred_MTcond_close = ypred_close\n",
      "        Ypred_MTmarginal_close = ymarginalpred_close\n",
      "        Yobs = Y[Itest, :]\n",
      "    else:\n",
      "        Ypred_MTcond_close = np.row_stack((Ypred_MTcond_close, ypred_close))\n",
      "        Ypred_MTmarginal_close = np.row_stack((Ypred_MTmarginal_close, ymarginalpred_close))\n",
      "        Yobs = np.row_stack((Yobs, Y[Itest, :]))\n",
      "    \n",
      "    print \"\\tclose finished\"\n",
      "    \n",
      "    Itest = Itest_list[i]\n",
      "    Itrain = Idistant_list[i]\n",
      "    res = res_distant_list[i]\n",
      "    covs_list = [obj[\"covs\"] for obj in res]\n",
      "    m = build_MT_LMM(Y, K, covs_list, Itrain)\n",
      "    ypred_distant, ymarginalpred_distant = MTLMM_conditional_pred(Y, K, Itrain, Itest, m)\n",
      "    if i==0:\n",
      "        Ypred_MTcond_distant = ypred_distant\n",
      "        Ypred_MTmarginal_distant = ymarginalpred_distant\n",
      "    else:\n",
      "        Ypred_MTcond_distant = np.row_stack((Ypred_MTcond_distant, ypred_distant))\n",
      "        Ypred_MTmarginal_distant = np.row_stack((Ypred_MTmarginal_distant, ymarginalpred_distant))\n",
      "    \n",
      "    temp = pd.DataFrame(np.row_stack((summarise_Rsq(Y[Itest, :], ypred_close).T, \n",
      "                                      summarise_Rsq(Y[Itest, :], ypred_distant).T, \n",
      "                                      summarise_Rsq(Y[Itest, :], ymarginalpred_close).T, \n",
      "                                      summarise_Rsq(Y[Itest, :], ymarginalpred_distant).T)), columns=environments)\n",
      "    temp[\"fold\"] = [i, i, i, i]\n",
      "    temp[\"type\"] = [\"close\", \"distant\", \"close\", \"distant\"]\n",
      "    temp[\"model\"] = [\"conditional\", \"conditional\", \"marginal\", \"marginal\"]\n",
      "    if i==0:\n",
      "        Rsq_by_fold = temp\n",
      "    else:\n",
      "        Rsq_by_fold = pd.concat((Rsq_by_fold, temp))"
     ],
     "language": "python",
     "metadata": {},
     "outputs": [
      {
       "output_type": "stream",
       "stream": "stdout",
       "text": [
        "starting fold 0\n",
        "\tclose finished\n",
        "starting fold 1"
       ]
      },
      {
       "output_type": "stream",
       "stream": "stdout",
       "text": [
        "\n",
        "\tclose finished"
       ]
      },
      {
       "output_type": "stream",
       "stream": "stdout",
       "text": [
        "\n",
        "starting fold 2"
       ]
      },
      {
       "output_type": "stream",
       "stream": "stdout",
       "text": [
        "\n",
        "\tclose finished"
       ]
      },
      {
       "output_type": "stream",
       "stream": "stdout",
       "text": [
        "\n",
        "starting fold 3"
       ]
      },
      {
       "output_type": "stream",
       "stream": "stdout",
       "text": [
        "\n",
        "\tclose finished"
       ]
      },
      {
       "output_type": "stream",
       "stream": "stdout",
       "text": [
        "\n"
       ]
      }
     ],
     "prompt_number": 13
    },
    {
     "cell_type": "code",
     "collapsed": false,
     "input": [
      "df = pd.DataFrame(np.row_stack((summarise_Rsq(Yobs, Ypred_MTcond_close).T,\n",
      "                                summarise_Rsq(Yobs, Ypred_MTcond_distant).T,\n",
      "                                summarise_Rsq(Yobs, Ypred_MTmarginal_close).T, \n",
      "                                summarise_Rsq(Yobs, Ypred_MTmarginal_distant).T)), columns=environments)\n",
      "\n",
      "df[\"type\"] = [\"close\", \"distant\", \"close\", \"distant\"]\n",
      "df[\"model\"] = [\"conditional\", \"conditional\", \"marginal\", \"marginal\"]\n",
      "df.to_csv(\"output/close_distant_MTLMM.csv\")\n",
      "Rsq_by_fold.to_csv(\"output/close_distant_MTLMM_by_fold.csv\")"
     ],
     "language": "python",
     "metadata": {},
     "outputs": [],
     "prompt_number": 14
    },
    {
     "cell_type": "code",
     "collapsed": false,
     "input": [
      "pd.DataFrame(np.round(Ypred_MTcond_close, 3), columns=environments).to_csv(\"output/Ypred_MTcond_close.csv\")\n",
      "pd.DataFrame(np.round(Ypred_MTcond_distant, 3), columns=environments).to_csv(\"output/Ypred_MTcond_distant.csv\")\n",
      "pd.DataFrame(np.round(Ypred_MTmarginal_close, 3), columns=environments).to_csv(\"output/Ypred_MTmarginal_close.csv\")\n",
      "pd.DataFrame(np.round(Ypred_MTmarginal_distant, 3), columns=environments).to_csv(\"output/Ypred_MTmarginal_distant.csv\")"
     ],
     "language": "python",
     "metadata": {},
     "outputs": [],
     "prompt_number": 15
    },
    {
     "cell_type": "heading",
     "level": 3,
     "metadata": {},
     "source": [
      "LMM+P"
     ]
    },
    {
     "cell_type": "code",
     "collapsed": false,
     "input": [
      "from IPython.parallel import Client\n",
      "c = Client()\n",
      "cluster = c[:]"
     ],
     "language": "python",
     "metadata": {},
     "outputs": [],
     "prompt_number": 37
    },
    {
     "cell_type": "code",
     "collapsed": false,
     "input": [
      "maxiter = 10\n",
      "pred_nQTLs = [1, 10] # range(maxiter+1)\n",
      "myfunction_condLMM = lambda j: conditional_predictions(Y, j, snps, K, Itrain, Itest, pred_nQTLs, maxiter, allow_interactions=True, conditional=True, return_decomposition=False)\n",
      "\n",
      "execution_code = '''\n",
      "import sys\n",
      "sys.path.append(\"/home/kaspar/yeast/code/\")\n",
      "from y10k_prediction.LMM import conditional_predictions\n",
      "'''\n",
      "\n",
      "P = Y.shape[1]\n",
      "n_folds = 4"
     ],
     "language": "python",
     "metadata": {},
     "outputs": [],
     "prompt_number": 38
    },
    {
     "cell_type": "code",
     "collapsed": false,
     "input": [
      "for i in range(4):\n",
      "    print \"starting fold %s\" %i\n",
      "    Itest = Itest_list[i]\n",
      "    Itrain = Iclose_list[i]\n",
      "    cluster.execute(execution_code)\n",
      "    mydict=dict(Y=Y, snps=snps, K=K, Itrain=Itrain, Itest=Itest, pred_nQTLs=pred_nQTLs, maxiter=maxiter)\n",
      "    cluster.push(mydict)\n",
      "    res = cluster.map_sync(myfunction_condLMM, range(Y.shape[1]))\n",
      "    pred = np.array([obj[\"pred\"] for obj in res]).T\n",
      "    if i==0:\n",
      "        Ypred_close = pred\n",
      "        Yobs = Y[Itest, :]\n",
      "        Rsq_by_fold_close = pd.DataFrame()\n",
      "        res_close_list = []\n",
      "    else:\n",
      "        Ypred_close = np.row_stack((Ypred_close, pred))\n",
      "        Yobs = np.row_stack((Yobs, Y[Itest, :]))\n",
      "    res_close_list.append(res)\n",
      "    temp = pd.DataFrame(summarise_Rsq(Y[Itest, :], pred).T, columns = environments)\n",
      "    temp[\"fold\"] = i\n",
      "    temp[\"type\"] = \"close\"\n",
      "    Rsq_by_fold_close = pd.concat((Rsq_by_fold_close, temp))\n",
      "    \n",
      "    Itest = Itest_list[i]\n",
      "    Itrain = Idistant_list[i]\n",
      "    mydict=dict(Y=Y, snps=snps, K=K, Itrain=Itrain, Itest=Itest, pred_nQTLs=pred_nQTLs, maxiter=maxiter)\n",
      "    cluster.push(mydict)\n",
      "    res = cluster.map_sync(myfunction_condLMM, range(Y.shape[1]))\n",
      "    pred = np.array([obj[\"pred\"] for obj in res]).T\n",
      "    if i==0:\n",
      "        Ypred_distant = pred\n",
      "        Rsq_by_fold_distant = pd.DataFrame()\n",
      "        res_distant_list = []\n",
      "    else:\n",
      "        Ypred_distant = np.row_stack((Ypred_distant, pred))\n",
      "    res_distant_list.append(res)\n",
      "    temp = pd.DataFrame(summarise_Rsq(Y[Itest, :], pred).T, columns = environments)\n",
      "    temp[\"fold\"] = i\n",
      "    temp[\"type\"] = \"distant\"\n",
      "    Rsq_by_fold_distant = pd.concat((Rsq_by_fold_distant, temp))"
     ],
     "language": "python",
     "metadata": {},
     "outputs": [
      {
       "output_type": "stream",
       "stream": "stdout",
       "text": [
        "starting fold 0\n",
        "starting fold 1"
       ]
      },
      {
       "output_type": "stream",
       "stream": "stdout",
       "text": [
        "\n",
        "starting fold 2"
       ]
      },
      {
       "output_type": "stream",
       "stream": "stdout",
       "text": [
        "\n",
        "starting fold 3"
       ]
      },
      {
       "output_type": "stream",
       "stream": "stdout",
       "text": [
        "\n"
       ]
      }
     ],
     "prompt_number": 39
    },
    {
     "cell_type": "code",
     "collapsed": false,
     "input": [
      "import pickle\n",
      "pickle.dump(Ypred_close, open(\"output/Ypred_LMMP_close.p\", \"wb\" ) )\n",
      "pickle.dump(Ypred_distant, open(\"output/Ypred_LMMP_distant.p\", \"wb\" ) )\n",
      "\n",
      "pd.DataFrame(np.round(Ypred_close, 3), columns=environments).to_csv(\"output/Ypred_LMMP_close.csv\")\n",
      "pd.DataFrame(np.round(Ypred_distant, 3), columns=environments).to_csv(\"output/Ypred_LMMP_distant.csv\")"
     ],
     "language": "python",
     "metadata": {},
     "outputs": [],
     "prompt_number": 40
    },
    {
     "cell_type": "code",
     "collapsed": false,
     "input": [
      "df1 = pd.DataFrame(summarise_Rsq(Ypred_distant, Yobs).T, columns=environments)\n",
      "df2 = pd.DataFrame(summarise_Rsq(Ypred_close, Yobs).T, columns=environments)\n",
      "df = pd.concat((df1, df2))\n",
      "df[\"type\"] = [\"distant\", \"close\"]\n",
      "df.to_csv(\"output/close_distant_LMMP.csv\")"
     ],
     "language": "python",
     "metadata": {},
     "outputs": [],
     "prompt_number": 3
    },
    {
     "cell_type": "code",
     "collapsed": false,
     "input": [],
     "language": "python",
     "metadata": {},
     "outputs": []
    }
   ],
   "metadata": {}
  }
 ]
}
