{
 "cells": [
  {
   "cell_type": "code",
   "execution_count": 1,
   "metadata": {
    "collapsed": false
   },
   "outputs": [],
   "source": [
    "# activiate inline plotting\n",
    "%matplotlib inline\n",
    "\n",
    "import sys\n",
    "sys.path.append(\"/home/kaspar\")\n",
    "\n",
    "import numpy as np\n",
    "import scipy as sp\n",
    "import pandas as pd\n",
    "\n",
    "from y10k_prediction_methods.helper_functions import summarise_Rsq"
   ]
  },
  {
   "cell_type": "markdown",
   "metadata": {},
   "source": [
    "### Get data"
   ]
  },
  {
   "cell_type": "code",
   "execution_count": 2,
   "metadata": {
    "collapsed": false
   },
   "outputs": [
    {
     "name": "stderr",
     "output_type": "stream",
     "text": [
      "/home/kaspar/anaconda/lib/python2.7/site-packages/limix/io/genotype_reader.py:248: DeprecationWarning: openFile() is pending deprecation, use open_file() instead. You may use the pt2to3 tool to update your source code.\n",
      "  self.f = tables.openFile(self.file_name,'r')\n",
      "/home/kaspar/anaconda/lib/python2.7/site-packages/limix/io/phenotype_reader.py:31: DeprecationWarning: openFile() is pending deprecation, use open_file() instead. You may use the pt2to3 tool to update your source code.\n",
      "  self.f = tables.openFile(self.file_name,'r')\n"
     ]
    }
   ],
   "source": [
    "from y10k_prediction_methods.data_import import get_data_with_parents\n",
    "\n",
    "file_name = 'data/y10k_hybrids_Yield.hdf5'\n",
    "Y, snps, K, parent1, parent2, individuals, dataset, environments = get_data_with_parents(file_name)"
   ]
  },
  {
   "cell_type": "markdown",
   "metadata": {},
   "source": [
    "### 4-fold CV partitions into test and two sets of training sets (distant and close relatives)"
   ]
  },
  {
   "cell_type": "code",
   "execution_count": 3,
   "metadata": {
    "collapsed": false
   },
   "outputs": [],
   "source": [
    "from y10k_prediction_methods.train_and_test_sets import get_4foldCV_close_and_distant\n",
    "\n",
    "sp.random.seed(0)\n",
    "Itest_list, Idistant_list, Iclose_list = get_4foldCV_close_and_distant(parent1, parent2)"
   ]
  },
  {
   "cell_type": "markdown",
   "metadata": {},
   "source": [
    "### BLUP confidence (i.e. SD of predictive distribution)"
   ]
  },
  {
   "cell_type": "code",
   "execution_count": 4,
   "metadata": {
    "collapsed": false
   },
   "outputs": [],
   "source": [
    "from IPython.parallel import Client\n",
    "c = Client()\n",
    "cluster = c[:]"
   ]
  },
  {
   "cell_type": "code",
   "execution_count": 5,
   "metadata": {
    "collapsed": false
   },
   "outputs": [],
   "source": [
    "myfunction_blup = lambda j: get_BLUPs_with_confidence(Y[:, j:j+1], K, Itrain, Itest)\n",
    "\n",
    "cluster.execute('''\n",
    "import sys\n",
    "sys.path.append(\"/home/kaspar/yeast/code/\")\n",
    "from y10k_prediction_methods.BLUP import get_BLUPs_with_confidence\n",
    "''')\n",
    "\n",
    "sd = np.sqrt(Y.var(axis=0))\n",
    "Ynorm = (Y - Y.mean(axis=0)) / sd"
   ]
  },
  {
   "cell_type": "code",
   "execution_count": 6,
   "metadata": {
    "collapsed": false
   },
   "outputs": [],
   "source": [
    "Itest = Itest_list[0]\n",
    "Itrain = Idistant_list[0]\n",
    "mydict=dict(Y=Ynorm, K=K, Itrain=Itrain, Itest=Itest)\n",
    "cluster.push(mydict)\n",
    "res = cluster.map_sync(myfunction_blup, range(Y.shape[1]))\n",
    "\n",
    "predictive_sd1_all = np.array([obj[\"predictive_sd\"] for obj in res]).T\n",
    "predictive_sd1 = predictive_sd1_all.mean(axis=0)\n",
    "pred1 = np.array([obj[\"pred\"].ravel() for obj in res]).T\n",
    "resid1 = Ynorm[Itest, :] - pred1\n",
    "resid_sd1 = np.sqrt(resid1.var(axis=0))"
   ]
  },
  {
   "cell_type": "code",
   "execution_count": 7,
   "metadata": {
    "collapsed": false
   },
   "outputs": [],
   "source": [
    "Itest = Itest_list[0]\n",
    "Itrain = Iclose_list[0]\n",
    "mydict=dict(Y=Ynorm, K=K, Itrain=Itrain, Itest=Itest)\n",
    "cluster.push(mydict)\n",
    "res = cluster.map_sync(myfunction_blup, range(Y.shape[1]))\n",
    "\n",
    "predictive_sd2_all = np.array([obj[\"predictive_sd\"] for obj in res]).T\n",
    "predictive_sd2 = predictive_sd2_all.mean(axis=0)\n",
    "pred2 = np.array([obj[\"pred\"].ravel() for obj in res]).T\n",
    "resid2 = Ynorm[Itest, :] - pred2\n",
    "resid_sd2 = np.sqrt(resid2.var(axis=0))"
   ]
  },
  {
   "cell_type": "code",
   "execution_count": 8,
   "metadata": {
    "collapsed": false
   },
   "outputs": [],
   "source": [
    "temp = np.row_stack((predictive_sd1, resid_sd1, predictive_sd2, resid_sd2))\n",
    "df = pd.DataFrame(temp, columns=environments)\n",
    "df[\"SD_type\"] = [\"predictive_SD\", \"residuals_SD\"]*2\n",
    "df[\"relatives\"] = [\"distant\", \"distant\", \"close\", \"close\"]\n",
    "df.to_csv(\"output/close_distant_BLUP_confidence.csv\")"
   ]
  },
  {
   "cell_type": "markdown",
   "metadata": {},
   "source": [
    "### QTL confidence (i.e. SD of predictive distribution)"
   ]
  },
  {
   "cell_type": "code",
   "execution_count": 16,
   "metadata": {
    "collapsed": false
   },
   "outputs": [],
   "source": [
    "from IPython.parallel import Client\n",
    "c = Client()\n",
    "cluster = c[:]"
   ]
  },
  {
   "cell_type": "code",
   "execution_count": 17,
   "metadata": {
    "collapsed": false
   },
   "outputs": [],
   "source": [
    "maxiter = 25\n",
    "pred_nQTLs = range(maxiter+1)\n",
    "myfunction_qtl_additive = lambda j: QTL_iid_predictions(Y, j, snps, Itrain, Itest, pred_nQTLs, maxiter=maxiter)\n",
    "\n",
    "cluster.execute('''\n",
    "import sys\n",
    "sys.path.append(\"/home/kaspar\")\n",
    "from y10k_prediction_methods.QTL_fitting import QTL_iid_predictions\n",
    "''')\n",
    "\n",
    "sd = np.sqrt(Y.var(axis=0))\n",
    "Ynorm = (Y - Y.mean(axis=0)) / sd"
   ]
  },
  {
   "cell_type": "code",
   "execution_count": 18,
   "metadata": {
    "collapsed": false
   },
   "outputs": [],
   "source": [
    "Itest = Itest_list[0]\n",
    "Itrain = Iclose_list[0]\n",
    "mydict=dict(Y=Ynorm, snps=snps, Itrain=Itrain, Itest=Itest, pred_nQTLs=pred_nQTLs, maxiter=maxiter)\n",
    "cluster.push(mydict)\n",
    "res_close = cluster.map_sync(myfunction_qtl_additive, range(Y.shape[1]))\n",
    "\n",
    "Itest = Itest_list[0]\n",
    "Itrain = Idistant_list[0]\n",
    "mydict=dict(Y=Ynorm, snps=snps, Itrain=Itrain, Itest=Itest, pred_nQTLs=pred_nQTLs, maxiter=maxiter)\n",
    "cluster.push(mydict)\n",
    "res_distant = cluster.map_sync(myfunction_qtl_additive, range(Y.shape[1]))"
   ]
  },
  {
   "cell_type": "code",
   "execution_count": 19,
   "metadata": {
    "collapsed": false
   },
   "outputs": [],
   "source": [
    "from y10k_prediction_methods.QTL_fitting import get_predictions_iid_with_weights\n",
    "\n",
    "P = Y.shape[1]\n",
    "predictive_s2_close = sp.zeros(P)\n",
    "predictive_s2_distant = sp.zeros(P)\n",
    "pred_error_close = sp.zeros(P)\n",
    "pred_error_distant = sp.zeros(P)\n",
    "for j in range(P):\n",
    "    covs = res_close[j][\"covs\"]\n",
    "    pred_error_close[j] = (res_close[j][\"pred\"] - Ynorm[Itest, j]).var(axis=0)\n",
    "    _, _, predictive_s2_close[j] = get_predictions_iid_with_weights(Ynorm[:, j], covs, Itrain, Itest)\n",
    "    covs = res_distant[j][\"covs\"]\n",
    "    pred_error_distant[j] = (res_distant[j][\"pred\"] - Ynorm[Itest, j]).var(axis=0)\n",
    "    _, _, predictive_s2_distant[j] = get_predictions_iid_with_weights(Ynorm[:, j], covs, Itrain, Itest)"
   ]
  },
  {
   "cell_type": "code",
   "execution_count": 20,
   "metadata": {
    "collapsed": false
   },
   "outputs": [],
   "source": [
    "df = pd.DataFrame(np.sqrt(np.row_stack((predictive_s2_distant, pred_error_distant, predictive_s2_close, pred_error_close))), columns=environments)\n",
    "df[\"SD_type\"] = [\"predictive_SD\", \"residuals_SD\"]*2\n",
    "df[\"relatives\"] = [\"distant\", \"distant\", \"close\", \"close\"]\n",
    "df.to_csv(\"output/close_distant_QTL_confidence.csv\")"
   ]
  },
  {
   "cell_type": "code",
   "execution_count": null,
   "metadata": {
    "collapsed": false
   },
   "outputs": [],
   "source": []
  }
 ],
 "metadata": {
  "kernelspec": {
   "display_name": "Python 3",
   "language": "python",
   "name": "python3"
  },
  "language_info": {
   "codemirror_mode": {
    "name": "ipython",
    "version": 3
   },
   "file_extension": ".py",
   "mimetype": "text/x-python",
   "name": "python",
   "nbconvert_exporter": "python",
   "pygments_lexer": "ipython3",
   "version": "3.5.2"
  }
 },
 "nbformat": 4,
 "nbformat_minor": 0
}
