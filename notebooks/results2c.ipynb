{
 "metadata": {
  "name": "",
  "signature": "sha256:e3413fcda94fe4970bf26bf2d47be08e3841fd033d4066c5b436d48003280004"
 },
 "nbformat": 3,
 "nbformat_minor": 0,
 "worksheets": [
  {
   "cells": [
    {
     "cell_type": "code",
     "collapsed": false,
     "input": [
      "# activiate inline plotting\n",
      "%matplotlib inline\n",
      "\n",
      "import sys\n",
      "sys.path.append(\"/home/kaspar\")\n",
      "\n",
      "import numpy as np\n",
      "import scipy as sp\n",
      "import pandas as pd\n",
      "\n",
      "from y10k_prediction.helper_functions import summarise_Rsq"
     ],
     "language": "python",
     "metadata": {},
     "outputs": [],
     "prompt_number": 1
    },
    {
     "cell_type": "heading",
     "level": 3,
     "metadata": {},
     "source": [
      "Get data"
     ]
    },
    {
     "cell_type": "code",
     "collapsed": false,
     "input": [
      "from y10k_prediction.data_import import get_data_with_parents\n",
      "\n",
      "file_name = 'data/y10k_hybrids_Yield.hdf5'\n",
      "Y, snps, K, parent1, parent2, individuals, dataset, environments = get_data_with_parents(file_name)"
     ],
     "language": "python",
     "metadata": {},
     "outputs": [
      {
       "output_type": "stream",
       "stream": "stderr",
       "text": [
        "/home/kaspar/anaconda/lib/python2.7/site-packages/limix/io/genotype_reader.py:248: DeprecationWarning: openFile() is pending deprecation, use open_file() instead. You may use the pt2to3 tool to update your source code.\n",
        "  self.f = tables.openFile(self.file_name,'r')\n",
        "/home/kaspar/anaconda/lib/python2.7/site-packages/limix/io/phenotype_reader.py:31: DeprecationWarning: openFile() is pending deprecation, use open_file() instead. You may use the pt2to3 tool to update your source code.\n",
        "  self.f = tables.openFile(self.file_name,'r')\n"
       ]
      }
     ],
     "prompt_number": 2
    },
    {
     "cell_type": "heading",
     "level": 3,
     "metadata": {},
     "source": [
      "4-fold CV partitions into test and two sets of training sets (distant and close relatives)"
     ]
    },
    {
     "cell_type": "code",
     "collapsed": false,
     "input": [
      "from y10k_prediction.train_and_test_sets import get_4foldCV_close_and_distant\n",
      "\n",
      "sp.random.seed(0)\n",
      "Itest_list, Idistant_list, Iclose_list = get_4foldCV_close_and_distant(parent1, parent2)"
     ],
     "language": "python",
     "metadata": {},
     "outputs": [],
     "prompt_number": 3
    },
    {
     "cell_type": "heading",
     "level": 3,
     "metadata": {},
     "source": [
      "BLUP confidence (i.e. SD of predictive distribution)"
     ]
    },
    {
     "cell_type": "code",
     "collapsed": false,
     "input": [
      "from IPython.parallel import Client\n",
      "c = Client()\n",
      "cluster = c[:]"
     ],
     "language": "python",
     "metadata": {},
     "outputs": [],
     "prompt_number": 4
    },
    {
     "cell_type": "code",
     "collapsed": false,
     "input": [
      "myfunction_blup = lambda j: get_BLUPs_with_confidence(Y[:, j:j+1], K, Itrain, Itest)\n",
      "\n",
      "cluster.execute('''\n",
      "import sys\n",
      "sys.path.append(\"/home/kaspar/yeast/code/\")\n",
      "from y10k_prediction.BLUP import get_BLUPs_with_confidence\n",
      "''')\n",
      "\n",
      "sd = np.sqrt(Y.var(axis=0))\n",
      "Ynorm = (Y - Y.mean(axis=0)) / sd"
     ],
     "language": "python",
     "metadata": {},
     "outputs": [],
     "prompt_number": 5
    },
    {
     "cell_type": "code",
     "collapsed": false,
     "input": [
      "Itest = Itest_list[0]\n",
      "Itrain = Idistant_list[0]\n",
      "mydict=dict(Y=Ynorm, K=K, Itrain=Itrain, Itest=Itest)\n",
      "cluster.push(mydict)\n",
      "res = cluster.map_sync(myfunction_blup, range(Y.shape[1]))\n",
      "\n",
      "predictive_sd1_all = np.array([obj[\"predictive_sd\"] for obj in res]).T\n",
      "predictive_sd1 = predictive_sd1_all.mean(axis=0)\n",
      "pred1 = np.array([obj[\"pred\"].ravel() for obj in res]).T\n",
      "resid1 = Ynorm[Itest, :] - pred1\n",
      "resid_sd1 = np.sqrt(resid1.var(axis=0))"
     ],
     "language": "python",
     "metadata": {},
     "outputs": [],
     "prompt_number": 6
    },
    {
     "cell_type": "code",
     "collapsed": false,
     "input": [
      "Itest = Itest_list[0]\n",
      "Itrain = Iclose_list[0]\n",
      "mydict=dict(Y=Ynorm, K=K, Itrain=Itrain, Itest=Itest)\n",
      "cluster.push(mydict)\n",
      "res = cluster.map_sync(myfunction_blup, range(Y.shape[1]))\n",
      "\n",
      "predictive_sd2_all = np.array([obj[\"predictive_sd\"] for obj in res]).T\n",
      "predictive_sd2 = predictive_sd2_all.mean(axis=0)\n",
      "pred2 = np.array([obj[\"pred\"].ravel() for obj in res]).T\n",
      "resid2 = Ynorm[Itest, :] - pred2\n",
      "resid_sd2 = np.sqrt(resid2.var(axis=0))"
     ],
     "language": "python",
     "metadata": {},
     "outputs": [],
     "prompt_number": 7
    },
    {
     "cell_type": "code",
     "collapsed": false,
     "input": [
      "temp = np.row_stack((predictive_sd1, resid_sd1, predictive_sd2, resid_sd2))\n",
      "df = pd.DataFrame(temp, columns=environments)\n",
      "df[\"SD_type\"] = [\"predictive_SD\", \"residuals_SD\"]*2\n",
      "df[\"relatives\"] = [\"distant\", \"distant\", \"close\", \"close\"]\n",
      "df.to_csv(\"output/close_distant_BLUP_confidence.csv\")"
     ],
     "language": "python",
     "metadata": {},
     "outputs": [],
     "prompt_number": 8
    },
    {
     "cell_type": "heading",
     "level": 3,
     "metadata": {},
     "source": [
      "QTL confidence (i.e. SD of predictive distribution)"
     ]
    },
    {
     "cell_type": "code",
     "collapsed": false,
     "input": [
      "from IPython.parallel import Client\n",
      "c = Client()\n",
      "cluster = c[:]"
     ],
     "language": "python",
     "metadata": {},
     "outputs": [],
     "prompt_number": 16
    },
    {
     "cell_type": "code",
     "collapsed": false,
     "input": [
      "maxiter = 25\n",
      "pred_nQTLs = range(maxiter+1)\n",
      "myfunction_qtl_additive = lambda j: QTL_iid_predictions(Y, j, snps, Itrain, Itest, pred_nQTLs, maxiter=maxiter)\n",
      "\n",
      "cluster.execute('''\n",
      "import sys\n",
      "sys.path.append(\"/home/kaspar\")\n",
      "from y10k_prediction.QTL_fitting import QTL_iid_predictions\n",
      "''')\n",
      "\n",
      "sd = np.sqrt(Y.var(axis=0))\n",
      "Ynorm = (Y - Y.mean(axis=0)) / sd"
     ],
     "language": "python",
     "metadata": {},
     "outputs": [],
     "prompt_number": 17
    },
    {
     "cell_type": "code",
     "collapsed": false,
     "input": [
      "Itest = Itest_list[0]\n",
      "Itrain = Iclose_list[0]\n",
      "mydict=dict(Y=Ynorm, snps=snps, Itrain=Itrain, Itest=Itest, pred_nQTLs=pred_nQTLs, maxiter=maxiter)\n",
      "cluster.push(mydict)\n",
      "res_close = cluster.map_sync(myfunction_qtl_additive, range(Y.shape[1]))\n",
      "\n",
      "Itest = Itest_list[0]\n",
      "Itrain = Idistant_list[0]\n",
      "mydict=dict(Y=Ynorm, snps=snps, Itrain=Itrain, Itest=Itest, pred_nQTLs=pred_nQTLs, maxiter=maxiter)\n",
      "cluster.push(mydict)\n",
      "res_distant = cluster.map_sync(myfunction_qtl_additive, range(Y.shape[1]))"
     ],
     "language": "python",
     "metadata": {},
     "outputs": [],
     "prompt_number": 18
    },
    {
     "cell_type": "code",
     "collapsed": false,
     "input": [
      "from y10k_prediction.QTL_fitting import get_predictions_iid_with_weights\n",
      "\n",
      "P = Y.shape[1]\n",
      "predictive_s2_close = sp.zeros(P)\n",
      "predictive_s2_distant = sp.zeros(P)\n",
      "pred_error_close = sp.zeros(P)\n",
      "pred_error_distant = sp.zeros(P)\n",
      "for j in range(P):\n",
      "    covs = res_close[j][\"covs\"]\n",
      "    pred_error_close[j] = (res_close[j][\"pred\"] - Ynorm[Itest, j]).var(axis=0)\n",
      "    _, _, predictive_s2_close[j] = get_predictions_iid_with_weights(Ynorm[:, j], covs, Itrain, Itest)\n",
      "    covs = res_distant[j][\"covs\"]\n",
      "    pred_error_distant[j] = (res_distant[j][\"pred\"] - Ynorm[Itest, j]).var(axis=0)\n",
      "    _, _, predictive_s2_distant[j] = get_predictions_iid_with_weights(Ynorm[:, j], covs, Itrain, Itest)"
     ],
     "language": "python",
     "metadata": {},
     "outputs": [],
     "prompt_number": 19
    },
    {
     "cell_type": "code",
     "collapsed": false,
     "input": [
      "df = pd.DataFrame(np.sqrt(np.row_stack((predictive_s2_distant, pred_error_distant, predictive_s2_close, pred_error_close))), columns=environments)\n",
      "df[\"SD_type\"] = [\"predictive_SD\", \"residuals_SD\"]*2\n",
      "df[\"relatives\"] = [\"distant\", \"distant\", \"close\", \"close\"]\n",
      "df.to_csv(\"output/close_distant_QTL_confidence.csv\")"
     ],
     "language": "python",
     "metadata": {},
     "outputs": [],
     "prompt_number": 20
    },
    {
     "cell_type": "code",
     "collapsed": false,
     "input": [],
     "language": "python",
     "metadata": {},
     "outputs": []
    }
   ],
   "metadata": {}
  }
 ]
}